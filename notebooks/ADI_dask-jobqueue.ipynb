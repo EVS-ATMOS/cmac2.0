{
 "cells": [
  {
   "cell_type": "markdown",
   "metadata": {},
   "source": [
    "## adi_cmac2 dask scaling"
   ]
  },
  {
   "cell_type": "code",
   "execution_count": 1,
   "metadata": {},
   "outputs": [],
   "source": [
    "import subprocess\n",
    "import os\n",
    "import sys\n",
    "from dask_jobqueue import PBSCluster\n",
    "from distributed import Client, progress\n",
    "from datetime import datetime, timedelta\n",
    "from pkg_resources import load_entry_point"
   ]
  },
  {
   "cell_type": "code",
   "execution_count": 2,
   "metadata": {},
   "outputs": [
    {
     "ename": "NameError",
     "evalue": "name 'adi_cmac2' is not defined",
     "output_type": "error",
     "traceback": [
      "\u001b[0;31m---------------------------------------------------------------------------\u001b[0m",
      "\u001b[0;31mNameError\u001b[0m                                 Traceback (most recent call last)",
      "\u001b[0;32m<ipython-input-2-725df1d7d570>\u001b[0m in \u001b[0;36m<module>\u001b[0;34m\u001b[0m\n\u001b[0;32m----> 1\u001b[0;31m \u001b[0mdir\u001b[0m\u001b[0;34m(\u001b[0m\u001b[0madi_cmac2\u001b[0m\u001b[0;34m)\u001b[0m\u001b[0;34m\u001b[0m\u001b[0;34m\u001b[0m\u001b[0m\n\u001b[0m",
      "\u001b[0;31mNameError\u001b[0m: name 'adi_cmac2' is not defined"
     ]
    }
   ],
   "source": [
    "dir(adi_cmac2)"
   ]
  },
  {
   "cell_type": "code",
   "execution_count": 3,
   "metadata": {},
   "outputs": [],
   "source": [
    "def exec_adi(info_dict):\n",
    "    facility = info_dict['facility']\n",
    "    site = info_dict['site']\n",
    "    start_date = info_dict['start_date']\n",
    "    end_date = info_dict['end_date']\n",
    "    logs_dir = \"/home/rjackson/adi_logs\"\n",
    "    os.environ[\"DATASTREAM_DATA\"] = \"/lustre/or-hydra/cades-arm/rjackson/\"\n",
    "    logs_dir += logs_dir + \"/\" + site + start_date + \"_\" + end_date\n",
    "    if not os.path.isdir(logs_dir):\n",
    "        os.makedirs(logs_dir)\n",
    "    os.environ[\"LOGS_DATA\"] = logs_dir\n",
    "    os.environ[\"PROJ_LIB\"] = \"/home/rjackson/anaconda3/envs/adi_env3/share/proj/\"\n",
    "    print((\"/home/rjackson/anaconda3/envs/adi_env3/bin/adi_cmac2 -D 1 -f \" + \n",
    "                     facility + \" -s \" + site + \" -b \" + start_date + \" -e \"+  end_date))\n",
    "    subprocess.call((\"/home/rjackson/anaconda3/envs/adi_env3/bin/adi_cmac2 -D 1 -f \" + \n",
    "                     facility + \" -s \" + site + \" -b \" + start_date + \" -e \"+  end_date), shell=True)\n",
    "    #sys.argv[0] = \"/home/rjackson/anaconda3/envs/adi_env3/bin/adi_cmac2\"\n",
    "    #sys.argv[1] = \"-D\"\n",
    "    #sys.argv[2] = \"1\"\n",
    "    #sys.argv[3] = \"-f\"\n",
    "    #sys.argv[4] = facility\n",
    "    #sys.argv[5] = \"-s\"\n",
    "    #sys.argv[6] = start_date\n",
    "    #sys.argv[7] = \"-e\"\n",
    "    #sys.argv[8] = end_date\n",
    "    #return load_entry_point('vap-adi-cmac2==1.0.0.dev0', 'console_scripts', 'adi_cmac2')   "
   ]
  },
  {
   "cell_type": "code",
   "execution_count": 4,
   "metadata": {},
   "outputs": [],
   "source": [
    "the_cluster = PBSCluster(processes=6, cores=36, queue=\"arm_high_mem\", \n",
    "                         walltime=\"3:00:00\", resource_spec=\"qos=std\",\n",
    "                         job_extra=[\"-A arm\", \"-W group_list=cades-arm\"],\n",
    "                         env_extra=[\". /home/rjackson/anaconda3/etc/profile.d/conda.sh\", \"conda activate adi_env3\"])\n",
    "the_cluster.scale(36)"
   ]
  },
  {
   "cell_type": "code",
   "execution_count": 5,
   "metadata": {},
   "outputs": [
    {
     "data": {
      "text/html": [
       "<table style=\"border: 2px solid white;\">\n",
       "<tr>\n",
       "<td style=\"vertical-align: top; border: 0px solid white\">\n",
       "<h3>Client</h3>\n",
       "<ul>\n",
       "  <li><b>Scheduler: </b>tcp://10.23.216.82:44276\n",
       "  <li><b>Dashboard: </b><a href='http://10.23.216.82:8787/status' target='_blank'>http://10.23.216.82:8787/status</a>\n",
       "</ul>\n",
       "</td>\n",
       "<td style=\"vertical-align: top; border: 0px solid white\">\n",
       "<h3>Cluster</h3>\n",
       "<ul>\n",
       "  <li><b>Workers: </b>0</li>\n",
       "  <li><b>Cores: </b>0</li>\n",
       "  <li><b>Memory: </b>0 B</li>\n",
       "</ul>\n",
       "</td>\n",
       "</tr>\n",
       "</table>"
      ],
      "text/plain": [
       "<Client: scheduler='tcp://10.23.216.82:44276' processes=0 cores=0>"
      ]
     },
     "execution_count": 5,
     "metadata": {},
     "output_type": "execute_result"
    }
   ],
   "source": [
    "client = Client(the_cluster)\n",
    "client"
   ]
  },
  {
   "cell_type": "code",
   "execution_count": 9,
   "metadata": {},
   "outputs": [
    {
     "data": {
      "text/html": [
       "<table style=\"border: 2px solid white;\">\n",
       "<tr>\n",
       "<td style=\"vertical-align: top; border: 0px solid white\">\n",
       "<h3>Client</h3>\n",
       "<ul>\n",
       "  <li><b>Scheduler: </b>tcp://10.23.216.82:44276\n",
       "  <li><b>Dashboard: </b><a href='http://10.23.216.82:8787/status' target='_blank'>http://10.23.216.82:8787/status</a>\n",
       "</ul>\n",
       "</td>\n",
       "<td style=\"vertical-align: top; border: 0px solid white\">\n",
       "<h3>Cluster</h3>\n",
       "<ul>\n",
       "  <li><b>Workers: </b>36</li>\n",
       "  <li><b>Cores: </b>216</li>\n",
       "  <li><b>Memory: </b>1.62 TB</li>\n",
       "</ul>\n",
       "</td>\n",
       "</tr>\n",
       "</table>"
      ],
      "text/plain": [
       "<Client: scheduler='tcp://10.23.216.82:44276' processes=36 cores=216>"
      ]
     },
     "execution_count": 9,
     "metadata": {},
     "output_type": "execute_result"
    }
   ],
   "source": [
    "client"
   ]
  },
  {
   "cell_type": "code",
   "execution_count": 21,
   "metadata": {},
   "outputs": [],
   "source": [
    "the_func = lambda x, y: exec_adi(\"i5\", \"sgp\")\n"
   ]
  },
  {
   "cell_type": "code",
   "execution_count": 7,
   "metadata": {},
   "outputs": [
    {
     "name": "stdout",
     "output_type": "stream",
     "text": [
      "[{'facility': 'I5', 'site': 'sgp', 'start_date': '20190101', 'end_date': '20190102'}, {'facility': 'I5', 'site': 'sgp', 'start_date': '20190102', 'end_date': '20190103'}, {'facility': 'I5', 'site': 'sgp', 'start_date': '20190103', 'end_date': '20190104'}, {'facility': 'I5', 'site': 'sgp', 'start_date': '20190104', 'end_date': '20190105'}, {'facility': 'I5', 'site': 'sgp', 'start_date': '20190105', 'end_date': '20190106'}, {'facility': 'I5', 'site': 'sgp', 'start_date': '20190106', 'end_date': '20190107'}, {'facility': 'I5', 'site': 'sgp', 'start_date': '20190107', 'end_date': '20190108'}, {'facility': 'I5', 'site': 'sgp', 'start_date': '20190108', 'end_date': '20190109'}, {'facility': 'I5', 'site': 'sgp', 'start_date': '20190109', 'end_date': '20190110'}, {'facility': 'I5', 'site': 'sgp', 'start_date': '20190110', 'end_date': '20190111'}, {'facility': 'I5', 'site': 'sgp', 'start_date': '20190111', 'end_date': '20190112'}, {'facility': 'I5', 'site': 'sgp', 'start_date': '20190112', 'end_date': '20190113'}, {'facility': 'I5', 'site': 'sgp', 'start_date': '20190113', 'end_date': '20190114'}, {'facility': 'I5', 'site': 'sgp', 'start_date': '20190114', 'end_date': '20190115'}, {'facility': 'I5', 'site': 'sgp', 'start_date': '20190115', 'end_date': '20190116'}, {'facility': 'I5', 'site': 'sgp', 'start_date': '20190116', 'end_date': '20190117'}, {'facility': 'I5', 'site': 'sgp', 'start_date': '20190117', 'end_date': '20190118'}, {'facility': 'I5', 'site': 'sgp', 'start_date': '20190118', 'end_date': '20190119'}, {'facility': 'I5', 'site': 'sgp', 'start_date': '20190119', 'end_date': '20190120'}, {'facility': 'I5', 'site': 'sgp', 'start_date': '20190120', 'end_date': '20190121'}, {'facility': 'I5', 'site': 'sgp', 'start_date': '20190121', 'end_date': '20190122'}, {'facility': 'I5', 'site': 'sgp', 'start_date': '20190122', 'end_date': '20190123'}, {'facility': 'I5', 'site': 'sgp', 'start_date': '20190123', 'end_date': '20190124'}, {'facility': 'I5', 'site': 'sgp', 'start_date': '20190124', 'end_date': '20190125'}, {'facility': 'I5', 'site': 'sgp', 'start_date': '20190125', 'end_date': '20190126'}, {'facility': 'I5', 'site': 'sgp', 'start_date': '20190126', 'end_date': '20190127'}, {'facility': 'I5', 'site': 'sgp', 'start_date': '20190127', 'end_date': '20190128'}, {'facility': 'I5', 'site': 'sgp', 'start_date': '20190128', 'end_date': '20190129'}, {'facility': 'I5', 'site': 'sgp', 'start_date': '20190129', 'end_date': '20190130'}, {'facility': 'I5', 'site': 'sgp', 'start_date': '20190130', 'end_date': '20190131'}, {'facility': 'I5', 'site': 'sgp', 'start_date': '20190131', 'end_date': '20190201'}, {'facility': 'I5', 'site': 'sgp', 'start_date': '20190201', 'end_date': '20190202'}, {'facility': 'I5', 'site': 'sgp', 'start_date': '20190202', 'end_date': '20190203'}, {'facility': 'I5', 'site': 'sgp', 'start_date': '20190203', 'end_date': '20190204'}, {'facility': 'I5', 'site': 'sgp', 'start_date': '20190204', 'end_date': '20190205'}, {'facility': 'I5', 'site': 'sgp', 'start_date': '20190205', 'end_date': '20190206'}]\n"
     ]
    }
   ],
   "source": [
    "def make_date_list_dict_list(start_day, end_day):\n",
    "    cur_day = start_day\n",
    "    the_list = []\n",
    "    while(cur_day < end_day):\n",
    "        next_day = cur_day + timedelta(days=1)\n",
    "        temp_dict = {}\n",
    "        temp_dict['facility'] = \"I5\"\n",
    "        temp_dict['site'] = \"sgp\"\n",
    "        temp_dict['start_date'] = cur_day.strftime(\"%Y%m%d\")\n",
    "        temp_dict['end_date'] = next_day.strftime(\"%Y%m%d\")\n",
    "        the_list.append(temp_dict)\n",
    "        cur_day = cur_day + timedelta(days=1)\n",
    "    return the_list\n",
    "date_list = make_date_list_dict_list(datetime(2019, 1, 1), datetime(2019,2,6))\n",
    "print(date_list)"
   ]
  },
  {
   "cell_type": "code",
   "execution_count": 10,
   "metadata": {},
   "outputs": [],
   "source": [
    "futures = client.map(exec_adi, date_list)"
   ]
  },
  {
   "cell_type": "code",
   "execution_count": 16,
   "metadata": {},
   "outputs": [
    {
     "data": {
      "text/plain": [
       "[<Future: status: finished, type: NoneType, key: exec_adi-99403568728d730057c7dfd6a9f3975b>,\n",
       " <Future: status: finished, type: NoneType, key: exec_adi-1f0256d6c03ff7027348c97929f8b431>,\n",
       " <Future: status: pending, key: exec_adi-4d2cae1f2b675dba3848b5708a4bece6>,\n",
       " <Future: status: pending, key: exec_adi-e258cd856100870c39c4b21e3d05c8dd>,\n",
       " <Future: status: pending, key: exec_adi-3edacab31cf69d297f316193203d6f7d>,\n",
       " <Future: status: pending, key: exec_adi-8e330e34c0a7c77e08a9630eed3ddecc>,\n",
       " <Future: status: pending, key: exec_adi-edb716d3bf4d23f653425d5663b19f54>,\n",
       " <Future: status: pending, key: exec_adi-9ae4135ced91fc86eb81d09cca9eb478>,\n",
       " <Future: status: pending, key: exec_adi-ab9228f82e5dbf4dc3e3543dda1c26a6>,\n",
       " <Future: status: pending, key: exec_adi-e29f7ec520d40127f4f21479e5c2bb3d>,\n",
       " <Future: status: pending, key: exec_adi-4733dab740194b866a03847e2f3a4b93>,\n",
       " <Future: status: pending, key: exec_adi-5f3da22bfbba6a546e986c4a7e5982ed>,\n",
       " <Future: status: pending, key: exec_adi-c83260a7dcbae9f9cd218e65b613ba03>,\n",
       " <Future: status: pending, key: exec_adi-011806cbf75c2a888a3012094e6d3205>,\n",
       " <Future: status: pending, key: exec_adi-a2a80d03a60b1c736b3594c92c901089>,\n",
       " <Future: status: pending, key: exec_adi-76e0a9da1fe33c577bdd36642042c968>,\n",
       " <Future: status: pending, key: exec_adi-06246994487cebb789bfbfc3d8fb0637>,\n",
       " <Future: status: pending, key: exec_adi-e90d50969738f4fcb367508a3fbd123b>,\n",
       " <Future: status: pending, key: exec_adi-5d8d10eb23739a5a5ef3110f3f7eb8db>,\n",
       " <Future: status: pending, key: exec_adi-49cd74568aed9a64cb189a4abffdc9eb>,\n",
       " <Future: status: pending, key: exec_adi-fa7b03fb7d23b484ce92be37ff1d052b>,\n",
       " <Future: status: pending, key: exec_adi-30f6115b242e8fe948e4739e5ff78eae>,\n",
       " <Future: status: pending, key: exec_adi-3f694fbb664f14b99890f69d6a5ea8ee>,\n",
       " <Future: status: pending, key: exec_adi-2bf26e1cbb24573131218c4e8477382d>,\n",
       " <Future: status: pending, key: exec_adi-1fcd8ae3acf53d49cd22c52507725155>,\n",
       " <Future: status: pending, key: exec_adi-62538d3f58659f7c9de3673ac741d590>,\n",
       " <Future: status: pending, key: exec_adi-bca582d3a4482563852836c7d7a00058>,\n",
       " <Future: status: pending, key: exec_adi-293fd68fd8673240aac60860ad36b838>,\n",
       " <Future: status: pending, key: exec_adi-53675ab10127a578565a6c7edb33a44b>,\n",
       " <Future: status: pending, key: exec_adi-85f022a07befe5234f514ba68c0f618a>,\n",
       " <Future: status: pending, key: exec_adi-ddc38f3053efe2343b1525d64466a7b7>,\n",
       " <Future: status: pending, key: exec_adi-c43117afedce0f30206f4a99e37004e8>,\n",
       " <Future: status: pending, key: exec_adi-f5f4d277748660b6770780833e16aa45>,\n",
       " <Future: status: pending, key: exec_adi-2cd89916d4362441b0c6455006b32813>,\n",
       " <Future: status: pending, key: exec_adi-d771876b1bd46ad40369ebdad2fc7f31>,\n",
       " <Future: status: finished, type: NoneType, key: exec_adi-1a53b4c6c3da3b48cce95465720c8eab>]"
      ]
     },
     "execution_count": 16,
     "metadata": {},
     "output_type": "execute_result"
    }
   ],
   "source": [
    "futures"
   ]
  },
  {
   "cell_type": "code",
   "execution_count": 94,
   "metadata": {},
   "outputs": [],
   "source": [
    "del futures"
   ]
  },
  {
   "cell_type": "code",
   "execution_count": 60,
   "metadata": {},
   "outputs": [
    {
     "data": {
      "text/plain": [
       "'#!/bin/bash\\n\\n#!/usr/bin/env bash\\n#PBS -N dask-worker\\n#PBS -q arm_high_mem\\n#PBS -A arm\\n#PBS -l qos=std\\n#PBS -l walltime=3:00:00\\n#PBS -A arm\\n#PBS -W group_list=cades-arm\\nJOB_ID=${PBS_JOBID%.*}\\n\\nconda activate adi_env3\\n\\n/home/rjackson/anaconda3/envs/adi_env3/bin/python -m distributed.cli.dask_worker tcp://10.23.216.82:45007 --nthreads 6 --nprocs 6 --memory-limit 45.00GB --name dask-worker--${JOB_ID}-- --death-timeout 60 --local-directory $localscratch --interface ib0 --interface ib0 --interface ib0\\n'"
      ]
     },
     "execution_count": 60,
     "metadata": {},
     "output_type": "execute_result"
    }
   ],
   "source": [
    "the_cluster.job_script()"
   ]
  },
  {
   "cell_type": "code",
   "execution_count": 120,
   "metadata": {},
   "outputs": [
    {
     "name": "stdout",
     "output_type": "stream",
     "text": [
      "/home/rjackson/anaconda3/envs/adi_env3/bin/adi_cmac2 -D 1 -f I5 -s sgp -b 20190101 -e 20190102\n"
     ]
    },
    {
     "ename": "KeyboardInterrupt",
     "evalue": "",
     "output_type": "error",
     "traceback": [
      "\u001b[0;31m---------------------------------------------------------------------------\u001b[0m",
      "\u001b[0;31mKeyboardInterrupt\u001b[0m                         Traceback (most recent call last)",
      "\u001b[0;32m<ipython-input-120-a6fb745b2944>\u001b[0m in \u001b[0;36m<module>\u001b[0;34m\u001b[0m\n\u001b[0;32m----> 1\u001b[0;31m \u001b[0mexec_adi\u001b[0m\u001b[0;34m(\u001b[0m\u001b[0mdate_list\u001b[0m\u001b[0;34m[\u001b[0m\u001b[0;36m0\u001b[0m\u001b[0;34m]\u001b[0m\u001b[0;34m)\u001b[0m\u001b[0;34m\u001b[0m\u001b[0;34m\u001b[0m\u001b[0m\n\u001b[0m",
      "\u001b[0;32m<ipython-input-119-54867afcec05>\u001b[0m in \u001b[0;36mexec_adi\u001b[0;34m(info_dict)\u001b[0m\n\u001b[1;32m     14\u001b[0m                      facility + \" -s \" + site + \" -b \" + start_date + \" -e \"+  end_date))\n\u001b[1;32m     15\u001b[0m     subprocess.call((\"/home/rjackson/anaconda3/envs/adi_env3/bin/adi_cmac2 -D 1 -f \" + \n\u001b[0;32m---> 16\u001b[0;31m                      facility + \" -s \" + site + \" -b \" + start_date + \" -e \"+  end_date), shell=True)\n\u001b[0m\u001b[1;32m     17\u001b[0m     \u001b[0;31m#sys.argv[0] = \"/home/rjackson/anaconda3/envs/adi_env3/bin/adi_cmac2\"\u001b[0m\u001b[0;34m\u001b[0m\u001b[0;34m\u001b[0m\u001b[0;34m\u001b[0m\u001b[0m\n\u001b[1;32m     18\u001b[0m     \u001b[0;31m#sys.argv[1] = \"-D\"\u001b[0m\u001b[0;34m\u001b[0m\u001b[0;34m\u001b[0m\u001b[0;34m\u001b[0m\u001b[0m\n",
      "\u001b[0;32m~/anaconda3/envs/adi_env3/lib/python3.6/subprocess.py\u001b[0m in \u001b[0;36mcall\u001b[0;34m(timeout, *popenargs, **kwargs)\u001b[0m\n\u001b[1;32m    287\u001b[0m     \u001b[0;32mwith\u001b[0m \u001b[0mPopen\u001b[0m\u001b[0;34m(\u001b[0m\u001b[0;34m*\u001b[0m\u001b[0mpopenargs\u001b[0m\u001b[0;34m,\u001b[0m \u001b[0;34m**\u001b[0m\u001b[0mkwargs\u001b[0m\u001b[0;34m)\u001b[0m \u001b[0;32mas\u001b[0m \u001b[0mp\u001b[0m\u001b[0;34m:\u001b[0m\u001b[0;34m\u001b[0m\u001b[0;34m\u001b[0m\u001b[0m\n\u001b[1;32m    288\u001b[0m         \u001b[0;32mtry\u001b[0m\u001b[0;34m:\u001b[0m\u001b[0;34m\u001b[0m\u001b[0;34m\u001b[0m\u001b[0m\n\u001b[0;32m--> 289\u001b[0;31m             \u001b[0;32mreturn\u001b[0m \u001b[0mp\u001b[0m\u001b[0;34m.\u001b[0m\u001b[0mwait\u001b[0m\u001b[0;34m(\u001b[0m\u001b[0mtimeout\u001b[0m\u001b[0;34m=\u001b[0m\u001b[0mtimeout\u001b[0m\u001b[0;34m)\u001b[0m\u001b[0;34m\u001b[0m\u001b[0;34m\u001b[0m\u001b[0m\n\u001b[0m\u001b[1;32m    290\u001b[0m         \u001b[0;32mexcept\u001b[0m\u001b[0;34m:\u001b[0m\u001b[0;34m\u001b[0m\u001b[0;34m\u001b[0m\u001b[0m\n\u001b[1;32m    291\u001b[0m             \u001b[0mp\u001b[0m\u001b[0;34m.\u001b[0m\u001b[0mkill\u001b[0m\u001b[0;34m(\u001b[0m\u001b[0;34m)\u001b[0m\u001b[0;34m\u001b[0m\u001b[0;34m\u001b[0m\u001b[0m\n",
      "\u001b[0;32m~/anaconda3/envs/adi_env3/lib/python3.6/subprocess.py\u001b[0m in \u001b[0;36mwait\u001b[0;34m(self, timeout, endtime)\u001b[0m\n\u001b[1;32m   1475\u001b[0m                         \u001b[0;32mif\u001b[0m \u001b[0mself\u001b[0m\u001b[0;34m.\u001b[0m\u001b[0mreturncode\u001b[0m \u001b[0;32mis\u001b[0m \u001b[0;32mnot\u001b[0m \u001b[0;32mNone\u001b[0m\u001b[0;34m:\u001b[0m\u001b[0;34m\u001b[0m\u001b[0;34m\u001b[0m\u001b[0m\n\u001b[1;32m   1476\u001b[0m                             \u001b[0;32mbreak\u001b[0m  \u001b[0;31m# Another thread waited.\u001b[0m\u001b[0;34m\u001b[0m\u001b[0;34m\u001b[0m\u001b[0m\n\u001b[0;32m-> 1477\u001b[0;31m                         \u001b[0;34m(\u001b[0m\u001b[0mpid\u001b[0m\u001b[0;34m,\u001b[0m \u001b[0msts\u001b[0m\u001b[0;34m)\u001b[0m \u001b[0;34m=\u001b[0m \u001b[0mself\u001b[0m\u001b[0;34m.\u001b[0m\u001b[0m_try_wait\u001b[0m\u001b[0;34m(\u001b[0m\u001b[0;36m0\u001b[0m\u001b[0;34m)\u001b[0m\u001b[0;34m\u001b[0m\u001b[0;34m\u001b[0m\u001b[0m\n\u001b[0m\u001b[1;32m   1478\u001b[0m                         \u001b[0;31m# Check the pid and loop as waitpid has been known to\u001b[0m\u001b[0;34m\u001b[0m\u001b[0;34m\u001b[0m\u001b[0;34m\u001b[0m\u001b[0m\n\u001b[1;32m   1479\u001b[0m                         \u001b[0;31m# return 0 even without WNOHANG in odd situations.\u001b[0m\u001b[0;34m\u001b[0m\u001b[0;34m\u001b[0m\u001b[0;34m\u001b[0m\u001b[0m\n",
      "\u001b[0;32m~/anaconda3/envs/adi_env3/lib/python3.6/subprocess.py\u001b[0m in \u001b[0;36m_try_wait\u001b[0;34m(self, wait_flags)\u001b[0m\n\u001b[1;32m   1422\u001b[0m             \u001b[0;34m\"\"\"All callers to this function MUST hold self._waitpid_lock.\"\"\"\u001b[0m\u001b[0;34m\u001b[0m\u001b[0;34m\u001b[0m\u001b[0m\n\u001b[1;32m   1423\u001b[0m             \u001b[0;32mtry\u001b[0m\u001b[0;34m:\u001b[0m\u001b[0;34m\u001b[0m\u001b[0;34m\u001b[0m\u001b[0m\n\u001b[0;32m-> 1424\u001b[0;31m                 \u001b[0;34m(\u001b[0m\u001b[0mpid\u001b[0m\u001b[0;34m,\u001b[0m \u001b[0msts\u001b[0m\u001b[0;34m)\u001b[0m \u001b[0;34m=\u001b[0m \u001b[0mos\u001b[0m\u001b[0;34m.\u001b[0m\u001b[0mwaitpid\u001b[0m\u001b[0;34m(\u001b[0m\u001b[0mself\u001b[0m\u001b[0;34m.\u001b[0m\u001b[0mpid\u001b[0m\u001b[0;34m,\u001b[0m \u001b[0mwait_flags\u001b[0m\u001b[0;34m)\u001b[0m\u001b[0;34m\u001b[0m\u001b[0;34m\u001b[0m\u001b[0m\n\u001b[0m\u001b[1;32m   1425\u001b[0m             \u001b[0;32mexcept\u001b[0m \u001b[0mChildProcessError\u001b[0m\u001b[0;34m:\u001b[0m\u001b[0;34m\u001b[0m\u001b[0;34m\u001b[0m\u001b[0m\n\u001b[1;32m   1426\u001b[0m                 \u001b[0;31m# This happens if SIGCLD is set to be ignored or waiting\u001b[0m\u001b[0;34m\u001b[0m\u001b[0;34m\u001b[0m\u001b[0;34m\u001b[0m\u001b[0m\n",
      "\u001b[0;31mKeyboardInterrupt\u001b[0m: "
     ]
    }
   ],
   "source": [
    "exec_adi(date_list[0])"
   ]
  },
  {
   "cell_type": "code",
   "execution_count": null,
   "metadata": {},
   "outputs": [],
   "source": [
    "os.path.i"
   ]
  }
 ],
 "metadata": {
  "kernelspec": {
   "display_name": "Python 3",
   "language": "python",
   "name": "python3"
  },
  "language_info": {
   "codemirror_mode": {
    "name": "ipython",
    "version": 3
   },
   "file_extension": ".py",
   "mimetype": "text/x-python",
   "name": "python",
   "nbconvert_exporter": "python",
   "pygments_lexer": "ipython3",
   "version": "3.6.8"
  }
 },
 "nbformat": 4,
 "nbformat_minor": 2
}
