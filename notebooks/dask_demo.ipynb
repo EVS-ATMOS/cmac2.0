{
 "cells": [
  {
   "cell_type": "markdown",
   "metadata": {},
   "source": [
    "## Dask demo notebook\n",
    "\n",
    "This notebook shows a demonstration of how to use dask and CMAC2.0 on a JupyterHub node."
   ]
  },
  {
   "cell_type": "code",
   "execution_count": 9,
   "metadata": {
    "collapsed": false
   },
   "outputs": [
    {
     "name": "stderr",
     "output_type": "stream",
     "text": [
      "/home/rjackson/anaconda3/envs/cmac_env/lib/python3.6/site-packages/jupyter_client/jsonutil.py:67: DeprecationWarning: Interpreting naive datetime as local 2018-03-15 12:05:29.526400. Please add timezone info to timestamps.\n",
      "  new_obj[k] = extract_dates(v)\n"
     ]
    }
   ],
   "source": [
    "import warnings\n",
    "warnings.filterwarnings('ignore')\n",
    "import dask.bag as db\n",
    "import pyart\n",
    "import importlib\n",
    "import netCDF4\n",
    "import os\n",
    "import subprocess\n",
    "import sys\n",
    "\n",
    "from glob import glob\n",
    "from cmac import cmac, quicklooks, get_sounding_times, get_sounding_file_name\n",
    "from dask.diagnostics import Profiler, ResourceProfiler, CacheProfiler"
   ]
  },
  {
   "cell_type": "markdown",
   "metadata": {},
   "source": [
    "This subroutine, will do both the processing and plotting for one radar file. A more sophisicated version of this is contained within the cmac_dask script."
   ]
  },
  {
   "cell_type": "code",
   "execution_count": 2,
   "metadata": {
    "collapsed": false
   },
   "outputs": [
    {
     "name": "stderr",
     "output_type": "stream",
     "text": [
      "/home/rjackson/anaconda3/envs/cmac_env/lib/python3.6/site-packages/jupyter_client/jsonutil.py:67: DeprecationWarning: Interpreting naive datetime as local 2018-03-15 11:58:58.993143. Please add timezone info to timestamps.\n",
      "  new_obj[k] = extract_dates(v)\n"
     ]
    }
   ],
   "source": [
    "def run_cmac_and_plotting(radar_file_path, radar_config,\n",
    "                          sounde_file, clutter_file_path, sonde_file,\n",
    "                          out_path, img_directory, sweep=0, dd_lobes=False):\n",
    "    \"\"\" For dask we need the radar plotting routines all in one subroutine. \"\"\"\n",
    "    try:\n",
    "        radar = pyart.io.read(radar_file_path)\n",
    "    except TypeError:\n",
    "        print(radar_file_path + ' has encountered TypeError!')\n",
    "        return\n",
    "\n",
    "    # Defining variables based on the argument args.config_dict.\n",
    "    save_name = radar_config['save_name']\n",
    "    town = radar_config['town']\n",
    "    alt = radar_config['site_alt']\n",
    "    field_shape = radar_config['field_shape']\n",
    "    max_lat = radar_config['max_lat']\n",
    "    min_lat = radar_config['min_lat']\n",
    "    max_lon = radar_config['max_lon']\n",
    "    min_lon = radar_config['min_lon']\n",
    "\n",
    "    facility = radar_config['facility']\n",
    "    if dd_lobes is True:\n",
    "        if facility == 'I4':\n",
    "            dms_radar1_coords = [radar_config['site_i4_dms_lon'],\n",
    "                                 radar_config['site_i4_dms_lat']]\n",
    "            dms_radar2_coords = [radar_config['site_i5_dms_lon'],\n",
    "                                 radar_config['site_i5_dms_lat']]\n",
    "        elif facility == 'I5':\n",
    "            dms_radar1_coords = [radar_config['site_i5_dms_lon'],\n",
    "                                 radar_config['site_i5_dms_lat']]\n",
    "            dms_radar2_coords = [radar_config['site_i4_dms_lon'],\n",
    "                                 radar_config['site_i4_dms_lat']]\n",
    "        elif facility == 'I6':\n",
    "            dms_radar1_coords = [radar_config['site_i6_dms_lon'],\n",
    "                                 radar_config['site_i6_dms_lat']]\n",
    "            dms_radar2_coords = [radar_config['site_i4_dms_lon'],\n",
    "                                 radar_config['site_i4_dms_lat']]\n",
    "    else:\n",
    "        dms_radar1_coords = None\n",
    "        dms_radar2_coords = None\n",
    "\n",
    "    radar_start_date = netCDF4.num2date(radar.time['data'][0],\n",
    "                                        radar.time['units'])\n",
    "    year_str = \"%04d\" % radar_start_date.year\n",
    "    month_str = \"%02d\" % radar_start_date.month\n",
    "    day_str = \"%02d\" % radar_start_date.day\n",
    "    hour_str = \"%02d\" % radar_start_date.hour\n",
    "    minute_str = \"%02d\" % radar_start_date.minute\n",
    "    second_str = \"%02d\" % radar_start_date.second\n",
    "\n",
    "    file_name = (out_path + '/' + save_name + '.'\n",
    "                 + year_str + month_str + day_str + '.' + hour_str\n",
    "                 + minute_str + second_str + '.nc')\n",
    "\n",
    "    # Load clutter files.\n",
    "    clutter = pyart.io.read(clutter_file_path)\n",
    "    clutter_field_dict = clutter.fields['xsapr_clutter']\n",
    "    radar.add_field(\n",
    "        'xsapr_clutter', clutter_field_dict, replace_existing=True)\n",
    "    del clutter\n",
    "\n",
    "    # Retrieve closest sonde in time to the time of the radar file.\n",
    "    sonde = netCDF4.Dataset(sonde_file)\n",
    "\n",
    "    # Running the cmac code to produce a cmac_radar object.\n",
    "    cmac_radar = cmac(radar, sonde, facility, town, alt, verbose=False)\n",
    "\n",
    "    # Free up some memory.\n",
    "    del radar\n",
    "    sonde.close()\n",
    "\n",
    "    # Produce the cmac_radar file from the cmac_radar object.\n",
    "    pyart.io.write_cfradial(file_name, cmac_radar)\n",
    "    print('## A CMAC radar object has been created at ' + file_name)\n",
    "\n",
    "    if not os.path.exists(img_directory):\n",
    "        os.makedirs(img_directory)\n",
    "        subprocess.call('chmod -R g+rw ' + img_directory, shell=True)\n",
    "\n",
    "    # Producing all the cmac_radar quicklooks.\n",
    "    quicklooks(cmac_radar, save_name,\n",
    "               image_directory=img_directory,\n",
    "               sweep=sweep, max_lat=max_lat,\n",
    "               min_lat=min_lat, max_lon=max_lon,\n",
    "               min_lon=min_lon, dd_lobes=dd_lobes,\n",
    "               dms_radar1_coords=dms_radar1_coords,\n",
    "               dms_radar2_coords=dms_radar2_coords)\n",
    "\n",
    "    # Delete the cmac_radar object and move on to the next radar file.\n",
    "    del cmac_radar\n",
    "    return"
   ]
  },
  {
   "cell_type": "markdown",
   "metadata": {},
   "source": [
    "We have to start our dask cluster. Normally, the script to do this on stratus is in qsub_xsapr. The dask-scheduler has to be running on one compute node and the dask-workers on the other computer nodes. However, since we are only on one node, we can just use multiprocessing to do our work for us."
   ]
  },
  {
   "cell_type": "markdown",
   "metadata": {},
   "source": [
    "CMAC2.0 has different dictionaries that specify various configurations for the 3 XSAPRs in SGP. Here we will load i5 since the demo data is from XSAPR i5."
   ]
  },
  {
   "cell_type": "code",
   "execution_count": 3,
   "metadata": {
    "collapsed": false
   },
   "outputs": [
    {
     "name": "stderr",
     "output_type": "stream",
     "text": [
      "/home/rjackson/anaconda3/envs/cmac_env/lib/python3.6/site-packages/jupyter_client/jsonutil.py:67: DeprecationWarning: Interpreting naive datetime as local 2018-03-15 11:59:01.253754. Please add timezone info to timestamps.\n",
      "  new_obj[k] = extract_dates(v)\n"
     ]
    }
   ],
   "source": [
    "# Load radar configuration (here, it is I5)\n",
    "config_module = importlib.import_module('cmac.config')\n",
    "radar_config = getattr(config_module, 'config_xsapr_i5')"
   ]
  },
  {
   "cell_type": "markdown",
   "metadata": {},
   "source": [
    "We can then use a dask bag to map the radar list into distributed memory and then execute the processing code on each file using .map().compute() on the bag"
   ]
  },
  {
   "cell_type": "code",
   "execution_count": 4,
   "metadata": {
    "collapsed": false
   },
   "outputs": [
    {
     "name": "stderr",
     "output_type": "stream",
     "text": [
      "/home/rjackson/anaconda3/envs/cmac_env/lib/python3.6/site-packages/jupyter_client/jsonutil.py:67: DeprecationWarning: Interpreting naive datetime as local 2018-03-15 11:59:03.920420. Please add timezone info to timestamps.\n",
      "  new_obj[k] = extract_dates(v)\n"
     ]
    }
   ],
   "source": [
    "radar_files = glob('/home/rjackson/i5_test_data/*.maint')\n",
    "img_directory = '/home/rjackson/xsapr_imgs/'\n",
    "out_path = '/home/rjackson/xsapr_files/'\n",
    "sonde_file = '/home/rjackson/i5_test_data/sonde/sgpsondewnpnC1.b1.20170926.113600.cdf'\n",
    "clutter_file_path = '/home/rjackson/i5_test_data/clutter201709.nc'"
   ]
  },
  {
   "cell_type": "code",
   "execution_count": 10,
   "metadata": {
    "collapsed": false
   },
   "outputs": [],
   "source": [
    "# CMAC2.0 outputs a lot of content so we want to redirect to a text file!\n",
    "foo = open('cmac_output.txt', mode='w')                   #\n",
    "sys.stdout = foo                         \n",
    "            \n",
    "the_bag = db.from_sequence(radar_files)\n",
    "\n",
    "# Wrap your function into a lambda function so that .map can use it!\n",
    "the_function = lambda x: run_cmac_and_plotting(x, radar_config,\n",
    "                          sonde_file, clutter_file_path, sonde_file,\n",
    "                          out_path, img_directory)\n",
    "with Profiler() as prof, ResourceProfiler(dt=0.25) as rprof, CacheProfiler() as cprof:\n",
    "    result = the_bag.map(the_function).compute()\n",
    "sys.stdout = sys.__stdout__ "
   ]
  },
  {
   "cell_type": "code",
   "execution_count": 11,
   "metadata": {
    "collapsed": false
   },
   "outputs": [
    {
     "data": {
      "text/html": [
       "<div style=\"display: table;\"><div style=\"display: table-row;\"><div style=\"display: table-cell;\"><b title=\"bokeh.plotting.figure.Figure\">Figure</b>(</div><div style=\"display: table-cell;\">id&nbsp;=&nbsp;'5ad4aa8c-5326-4223-8f21-d2b4d9b646e3', <span id=\"5306096a-49c8-4317-9f0e-8108120dfcc6\" style=\"cursor: pointer;\">&hellip;)</span></div></div><div class=\"175ab7ba-2983-4964-9487-2a2cd7833dc6\" style=\"display: none;\"><div style=\"display: table-cell;\"></div><div style=\"display: table-cell;\">above&nbsp;=&nbsp;[],</div></div><div class=\"175ab7ba-2983-4964-9487-2a2cd7833dc6\" style=\"display: none;\"><div style=\"display: table-cell;\"></div><div style=\"display: table-cell;\">background_fill_alpha&nbsp;=&nbsp;{'value': 1.0},</div></div><div class=\"175ab7ba-2983-4964-9487-2a2cd7833dc6\" style=\"display: none;\"><div style=\"display: table-cell;\"></div><div style=\"display: table-cell;\">background_fill_color&nbsp;=&nbsp;{'value': '#ffffff'},</div></div><div class=\"175ab7ba-2983-4964-9487-2a2cd7833dc6\" style=\"display: none;\"><div style=\"display: table-cell;\"></div><div style=\"display: table-cell;\">below&nbsp;=&nbsp;[LinearAxis(id='b9ef0b8f-19dc-4f6f-9cf4-0f39fc104253', ...)],</div></div><div class=\"175ab7ba-2983-4964-9487-2a2cd7833dc6\" style=\"display: none;\"><div style=\"display: table-cell;\"></div><div style=\"display: table-cell;\">border_fill_alpha&nbsp;=&nbsp;{'value': 1.0},</div></div><div class=\"175ab7ba-2983-4964-9487-2a2cd7833dc6\" style=\"display: none;\"><div style=\"display: table-cell;\"></div><div style=\"display: table-cell;\">border_fill_color&nbsp;=&nbsp;{'value': '#ffffff'},</div></div><div class=\"175ab7ba-2983-4964-9487-2a2cd7833dc6\" style=\"display: none;\"><div style=\"display: table-cell;\"></div><div style=\"display: table-cell;\">css_classes&nbsp;=&nbsp;None,</div></div><div class=\"175ab7ba-2983-4964-9487-2a2cd7833dc6\" style=\"display: none;\"><div style=\"display: table-cell;\"></div><div style=\"display: table-cell;\">disabled&nbsp;=&nbsp;False,</div></div><div class=\"175ab7ba-2983-4964-9487-2a2cd7833dc6\" style=\"display: none;\"><div style=\"display: table-cell;\"></div><div style=\"display: table-cell;\">extra_x_ranges&nbsp;=&nbsp;{},</div></div><div class=\"175ab7ba-2983-4964-9487-2a2cd7833dc6\" style=\"display: none;\"><div style=\"display: table-cell;\"></div><div style=\"display: table-cell;\">extra_y_ranges&nbsp;=&nbsp;{},</div></div><div class=\"175ab7ba-2983-4964-9487-2a2cd7833dc6\" style=\"display: none;\"><div style=\"display: table-cell;\"></div><div style=\"display: table-cell;\">h_symmetry&nbsp;=&nbsp;True,</div></div><div class=\"175ab7ba-2983-4964-9487-2a2cd7833dc6\" style=\"display: none;\"><div style=\"display: table-cell;\"></div><div style=\"display: table-cell;\">height&nbsp;=&nbsp;None,</div></div><div class=\"175ab7ba-2983-4964-9487-2a2cd7833dc6\" style=\"display: none;\"><div style=\"display: table-cell;\"></div><div style=\"display: table-cell;\">hidpi&nbsp;=&nbsp;True,</div></div><div class=\"175ab7ba-2983-4964-9487-2a2cd7833dc6\" style=\"display: none;\"><div style=\"display: table-cell;\"></div><div style=\"display: table-cell;\">js_event_callbacks&nbsp;=&nbsp;{},</div></div><div class=\"175ab7ba-2983-4964-9487-2a2cd7833dc6\" style=\"display: none;\"><div style=\"display: table-cell;\"></div><div style=\"display: table-cell;\">js_property_callbacks&nbsp;=&nbsp;{},</div></div><div class=\"175ab7ba-2983-4964-9487-2a2cd7833dc6\" style=\"display: none;\"><div style=\"display: table-cell;\"></div><div style=\"display: table-cell;\">left&nbsp;=&nbsp;[CategoricalAxis(id='8e1f9142-e2d9-4b9b-9792-b2160fbe06c0', ...)],</div></div><div class=\"175ab7ba-2983-4964-9487-2a2cd7833dc6\" style=\"display: none;\"><div style=\"display: table-cell;\"></div><div style=\"display: table-cell;\">lod_factor&nbsp;=&nbsp;10,</div></div><div class=\"175ab7ba-2983-4964-9487-2a2cd7833dc6\" style=\"display: none;\"><div style=\"display: table-cell;\"></div><div style=\"display: table-cell;\">lod_interval&nbsp;=&nbsp;300,</div></div><div class=\"175ab7ba-2983-4964-9487-2a2cd7833dc6\" style=\"display: none;\"><div style=\"display: table-cell;\"></div><div style=\"display: table-cell;\">lod_threshold&nbsp;=&nbsp;2000,</div></div><div class=\"175ab7ba-2983-4964-9487-2a2cd7833dc6\" style=\"display: none;\"><div style=\"display: table-cell;\"></div><div style=\"display: table-cell;\">lod_timeout&nbsp;=&nbsp;500,</div></div><div class=\"175ab7ba-2983-4964-9487-2a2cd7833dc6\" style=\"display: none;\"><div style=\"display: table-cell;\"></div><div style=\"display: table-cell;\">min_border&nbsp;=&nbsp;5,</div></div><div class=\"175ab7ba-2983-4964-9487-2a2cd7833dc6\" style=\"display: none;\"><div style=\"display: table-cell;\"></div><div style=\"display: table-cell;\">min_border_bottom&nbsp;=&nbsp;None,</div></div><div class=\"175ab7ba-2983-4964-9487-2a2cd7833dc6\" style=\"display: none;\"><div style=\"display: table-cell;\"></div><div style=\"display: table-cell;\">min_border_left&nbsp;=&nbsp;None,</div></div><div class=\"175ab7ba-2983-4964-9487-2a2cd7833dc6\" style=\"display: none;\"><div style=\"display: table-cell;\"></div><div style=\"display: table-cell;\">min_border_right&nbsp;=&nbsp;None,</div></div><div class=\"175ab7ba-2983-4964-9487-2a2cd7833dc6\" style=\"display: none;\"><div style=\"display: table-cell;\"></div><div style=\"display: table-cell;\">min_border_top&nbsp;=&nbsp;None,</div></div><div class=\"175ab7ba-2983-4964-9487-2a2cd7833dc6\" style=\"display: none;\"><div style=\"display: table-cell;\"></div><div style=\"display: table-cell;\">name&nbsp;=&nbsp;None,</div></div><div class=\"175ab7ba-2983-4964-9487-2a2cd7833dc6\" style=\"display: none;\"><div style=\"display: table-cell;\"></div><div style=\"display: table-cell;\">outline_line_alpha&nbsp;=&nbsp;{'value': 1.0},</div></div><div class=\"175ab7ba-2983-4964-9487-2a2cd7833dc6\" style=\"display: none;\"><div style=\"display: table-cell;\"></div><div style=\"display: table-cell;\">outline_line_cap&nbsp;=&nbsp;'butt',</div></div><div class=\"175ab7ba-2983-4964-9487-2a2cd7833dc6\" style=\"display: none;\"><div style=\"display: table-cell;\"></div><div style=\"display: table-cell;\">outline_line_color&nbsp;=&nbsp;{'value': '#e5e5e5'},</div></div><div class=\"175ab7ba-2983-4964-9487-2a2cd7833dc6\" style=\"display: none;\"><div style=\"display: table-cell;\"></div><div style=\"display: table-cell;\">outline_line_dash&nbsp;=&nbsp;[],</div></div><div class=\"175ab7ba-2983-4964-9487-2a2cd7833dc6\" style=\"display: none;\"><div style=\"display: table-cell;\"></div><div style=\"display: table-cell;\">outline_line_dash_offset&nbsp;=&nbsp;0,</div></div><div class=\"175ab7ba-2983-4964-9487-2a2cd7833dc6\" style=\"display: none;\"><div style=\"display: table-cell;\"></div><div style=\"display: table-cell;\">outline_line_join&nbsp;=&nbsp;'miter',</div></div><div class=\"175ab7ba-2983-4964-9487-2a2cd7833dc6\" style=\"display: none;\"><div style=\"display: table-cell;\"></div><div style=\"display: table-cell;\">outline_line_width&nbsp;=&nbsp;{'value': 1},</div></div><div class=\"175ab7ba-2983-4964-9487-2a2cd7833dc6\" style=\"display: none;\"><div style=\"display: table-cell;\"></div><div style=\"display: table-cell;\">output_backend&nbsp;=&nbsp;'canvas',</div></div><div class=\"175ab7ba-2983-4964-9487-2a2cd7833dc6\" style=\"display: none;\"><div style=\"display: table-cell;\"></div><div style=\"display: table-cell;\">plot_height&nbsp;=&nbsp;300,</div></div><div class=\"175ab7ba-2983-4964-9487-2a2cd7833dc6\" style=\"display: none;\"><div style=\"display: table-cell;\"></div><div style=\"display: table-cell;\">plot_width&nbsp;=&nbsp;800,</div></div><div class=\"175ab7ba-2983-4964-9487-2a2cd7833dc6\" style=\"display: none;\"><div style=\"display: table-cell;\"></div><div style=\"display: table-cell;\">renderers&nbsp;=&nbsp;[LinearAxis(id='b9ef0b8f-19dc-4f6f-9cf4-0f39fc104253', ...), Grid(id='c25e9a48-f9c1-4fa2-84b2-1f41a00e5808', ...), CategoricalAxis(id='8e1f9142-e2d9-4b9b-9792-b2160fbe06c0', ...), Grid(id='ba2f7d39-2d06-4bac-a6d5-3fa11b18d91e', ...), GlyphRenderer(id='5463037d-8685-4d9f-b146-4b94efc68c77', ...)],</div></div><div class=\"175ab7ba-2983-4964-9487-2a2cd7833dc6\" style=\"display: none;\"><div style=\"display: table-cell;\"></div><div style=\"display: table-cell;\">right&nbsp;=&nbsp;[],</div></div><div class=\"175ab7ba-2983-4964-9487-2a2cd7833dc6\" style=\"display: none;\"><div style=\"display: table-cell;\"></div><div style=\"display: table-cell;\">sizing_mode&nbsp;=&nbsp;'fixed',</div></div><div class=\"175ab7ba-2983-4964-9487-2a2cd7833dc6\" style=\"display: none;\"><div style=\"display: table-cell;\"></div><div style=\"display: table-cell;\">subscribed_events&nbsp;=&nbsp;[],</div></div><div class=\"175ab7ba-2983-4964-9487-2a2cd7833dc6\" style=\"display: none;\"><div style=\"display: table-cell;\"></div><div style=\"display: table-cell;\">tags&nbsp;=&nbsp;[],</div></div><div class=\"175ab7ba-2983-4964-9487-2a2cd7833dc6\" style=\"display: none;\"><div style=\"display: table-cell;\"></div><div style=\"display: table-cell;\">title&nbsp;=&nbsp;Title(id='37537e38-9b86-456d-b52a-baf0abb495e3', ...),</div></div><div class=\"175ab7ba-2983-4964-9487-2a2cd7833dc6\" style=\"display: none;\"><div style=\"display: table-cell;\"></div><div style=\"display: table-cell;\">title_location&nbsp;=&nbsp;'above',</div></div><div class=\"175ab7ba-2983-4964-9487-2a2cd7833dc6\" style=\"display: none;\"><div style=\"display: table-cell;\"></div><div style=\"display: table-cell;\">tool_events&nbsp;=&nbsp;ToolEvents(id='2175a3cd-7682-41d4-8d41-e39fd0e22470', ...),</div></div><div class=\"175ab7ba-2983-4964-9487-2a2cd7833dc6\" style=\"display: none;\"><div style=\"display: table-cell;\"></div><div style=\"display: table-cell;\">toolbar&nbsp;=&nbsp;Toolbar(id='1b5937ae-cdbf-4404-8159-006a511da5f2', ...),</div></div><div class=\"175ab7ba-2983-4964-9487-2a2cd7833dc6\" style=\"display: none;\"><div style=\"display: table-cell;\"></div><div style=\"display: table-cell;\">toolbar_location&nbsp;=&nbsp;'right',</div></div><div class=\"175ab7ba-2983-4964-9487-2a2cd7833dc6\" style=\"display: none;\"><div style=\"display: table-cell;\"></div><div style=\"display: table-cell;\">toolbar_sticky&nbsp;=&nbsp;True,</div></div><div class=\"175ab7ba-2983-4964-9487-2a2cd7833dc6\" style=\"display: none;\"><div style=\"display: table-cell;\"></div><div style=\"display: table-cell;\">v_symmetry&nbsp;=&nbsp;False,</div></div><div class=\"175ab7ba-2983-4964-9487-2a2cd7833dc6\" style=\"display: none;\"><div style=\"display: table-cell;\"></div><div style=\"display: table-cell;\">width&nbsp;=&nbsp;None,</div></div><div class=\"175ab7ba-2983-4964-9487-2a2cd7833dc6\" style=\"display: none;\"><div style=\"display: table-cell;\"></div><div style=\"display: table-cell;\">x_range&nbsp;=&nbsp;Range1d(id='e641aba1-1d62-423c-aa34-4d6a88a59b14', ...),</div></div><div class=\"175ab7ba-2983-4964-9487-2a2cd7833dc6\" style=\"display: none;\"><div style=\"display: table-cell;\"></div><div style=\"display: table-cell;\">x_scale&nbsp;=&nbsp;LinearScale(id='efb329dc-20c3-421d-af2f-7eb861e72971', ...),</div></div><div class=\"175ab7ba-2983-4964-9487-2a2cd7833dc6\" style=\"display: none;\"><div style=\"display: table-cell;\"></div><div style=\"display: table-cell;\">y_range&nbsp;=&nbsp;FactorRange(id='a757e7f4-3e87-4a5b-8a36-4407bd9d6c6e', ...),</div></div><div class=\"175ab7ba-2983-4964-9487-2a2cd7833dc6\" style=\"display: none;\"><div style=\"display: table-cell;\"></div><div style=\"display: table-cell;\">y_scale&nbsp;=&nbsp;CategoricalScale(id='15316a14-812a-4a3a-b02b-ee0be5671453', ...))</div></div></div>\n",
       "<script>\n",
       "(function() {\n",
       "  var expanded = false;\n",
       "  var ellipsis = document.getElementById(\"5306096a-49c8-4317-9f0e-8108120dfcc6\");\n",
       "  ellipsis.addEventListener(\"click\", function() {\n",
       "    var rows = document.getElementsByClassName(\"175ab7ba-2983-4964-9487-2a2cd7833dc6\");\n",
       "    for (var i = 0; i < rows.length; i++) {\n",
       "      var el = rows[i];\n",
       "      el.style.display = expanded ? \"none\" : \"table-row\";\n",
       "    }\n",
       "    ellipsis.innerHTML = expanded ? \"&hellip;)\" : \"&lsaquo;&lsaquo;&lsaquo;\";\n",
       "    expanded = !expanded;\n",
       "  });\n",
       "})();\n",
       "</script>\n"
      ],
      "text/plain": [
       "Figure(id='5ad4aa8c-5326-4223-8f21-d2b4d9b646e3', ...)"
      ]
     },
     "execution_count": 11,
     "metadata": {},
     "output_type": "execute_result"
    }
   ],
   "source": [
    "prof.visualize()"
   ]
  },
  {
   "cell_type": "code",
   "execution_count": null,
   "metadata": {
    "collapsed": true
   },
   "outputs": [],
   "source": []
  }
 ],
 "metadata": {
  "anaconda-cloud": {},
  "kernelspec": {
   "display_name": "Python [conda env:cmac_env]",
   "language": "python",
   "name": "conda-env-cmac_env-py"
  },
  "language_info": {
   "codemirror_mode": {
    "name": "ipython",
    "version": 3
   },
   "file_extension": ".py",
   "mimetype": "text/x-python",
   "name": "python",
   "nbconvert_exporter": "python",
   "pygments_lexer": "ipython3",
   "version": "3.6.1"
  }
 },
 "nbformat": 4,
 "nbformat_minor": 2
}
