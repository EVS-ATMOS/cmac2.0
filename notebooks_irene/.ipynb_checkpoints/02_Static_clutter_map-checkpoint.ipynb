{
 "cells": [
  {
   "cell_type": "code",
   "execution_count": 1,
   "metadata": {},
   "outputs": [
    {
     "name": "stdout",
     "output_type": "stream",
     "text": [
      "\n",
      "## You are using the Python ARM Radar Toolkit (Py-ART), an open source\n",
      "## library for working with weather radar data. Py-ART is partly\n",
      "## supported by the U.S. Department of Energy as part of the Atmospheric\n",
      "## Radiation Measurement (ARM) Climate Research Facility, an Office of\n",
      "## Science user facility.\n",
      "##\n",
      "## If you use this software to prepare a publication, please cite:\n",
      "##\n",
      "##     JJ Helmus and SM Collis, JORS 2016, doi: 10.5334/jors.119\n",
      "\n"
     ]
    }
   ],
   "source": [
    "#lets start with some imports\n",
    "\n",
    "import importlib\n",
    "\n",
    "#Py-ART, simply the best sowftware around.. Give those guys a grant\n",
    "import cartopy\n",
    "import pyart\n",
    "#timezone info\n",
    "import pytz\n",
    "\n",
    "import netCDF4\n",
    "\n",
    "import matplotlib.pyplot as plt\n",
    "import numpy as np\n",
    "from cmac import cmac, quicklooks, get_sounding_times, get_sounding_file_name, config, cmac_processing\n",
    "\n",
    "%matplotlib inline\n"
   ]
  },
  {
   "cell_type": "code",
   "execution_count": 2,
   "metadata": {},
   "outputs": [],
   "source": [
    "import os\n",
    "import datetime as dt"
   ]
  },
  {
   "cell_type": "code",
   "execution_count": 3,
   "metadata": {},
   "outputs": [],
   "source": [
    "clutter_savedirectory = '/lcrc/group/earthscience/icrisologo/cmac/clutter'"
   ]
  },
  {
   "cell_type": "code",
   "execution_count": 4,
   "metadata": {},
   "outputs": [],
   "source": [
    "clutter_files = os.listdir(clutter_savedirectory)"
   ]
  },
  {
   "cell_type": "code",
   "execution_count": 27,
   "metadata": {},
   "outputs": [
    {
     "name": "stdout",
     "output_type": "stream",
     "text": [
      "(5402, 1100)\n",
      "(5407, 1100)\n",
      "(5404, 1100)\n",
      "(5403, 1100)\n",
      "(5406, 1100)\n",
      "(5404, 1100)\n",
      "(5407, 1100)\n",
      "(5406, 1100)\n",
      "(5401, 1100)\n",
      "(5403, 1100)\n",
      "(5407, 1100)\n",
      "(5406, 1100)\n",
      "(5404, 1100)\n",
      "(5406, 1100)\n",
      "(5408, 1100)\n",
      "(5406, 1100)\n",
      "(5407, 1100)\n",
      "(5406, 1100)\n",
      "(5406, 1100)\n",
      "(5406, 1100)\n"
     ]
    }
   ],
   "source": [
    "clutter_array = np.empty((5402,1100))\n",
    "for i,clutter_file in enumerate(clutter_files[:20]):\n",
    "    clutter_file = clutter_files[i]\n",
    "    radar = pyart.io.read_cfradial(os.path.join(clutter_savedirectory,clutter_file))\n",
    "    clutter_ = radar.fields['ground_clutter']['data']\n",
    "    \n",
    "    print(clutter_.shape)"
   ]
  },
  {
   "cell_type": "code",
   "execution_count": 23,
   "metadata": {},
   "outputs": [
    {
     "data": {
      "text/plain": [
       "{'long_name': 'Clutter mask',\n",
       " 'units': 'unitless',\n",
       " 'standard_name': 'clutter_mask',\n",
       " 'comment': '0 is good, 1 is clutter',\n",
       " 'valid_min': 0,\n",
       " 'valid_max': 1,\n",
       " 'data': masked_array(\n",
       "   data=[[0, 0, 0, ..., 0, 0, 0],\n",
       "         [0, 0, 0, ..., 0, 0, 0],\n",
       "         [0, 0, 0, ..., 1, 0, 0],\n",
       "         ...,\n",
       "         [0, 0, 0, ..., 0, 0, 0],\n",
       "         [0, 0, 0, ..., 0, 0, 0],\n",
       "         [0, 0, 0, ..., 0, 0, 0]],\n",
       "   mask=False,\n",
       "   fill_value=999999)}"
      ]
     },
     "execution_count": 23,
     "metadata": {},
     "output_type": "execute_result"
    }
   ],
   "source": [
    "radar.fields['ground_clutter']"
   ]
  },
  {
   "cell_type": "code",
   "execution_count": 25,
   "metadata": {},
   "outputs": [
    {
     "name": "stdout",
     "output_type": "stream",
     "text": [
      "altitude:\n",
      "\tdata: <ndarray of type: float32 and shape: (1,)>\n",
      "\t_FillValue: -9999.0\n",
      "\tlong_name: Altitude\n",
      "\tunits: m\n",
      "\tstandard_name: altitude\n",
      "altitude_agl: None\n",
      "antenna_transition: None\n",
      "azimuth:\n",
      "\tdata: <ndarray of type: float32 and shape: (5403,)>\n",
      "\t_FillValue: -9999.0\n",
      "\tlong_name: Azimuth angle from true north\n",
      "\tunits: degree\n",
      "\tstandard_name: sensor_to_target_azimuth_angle\n",
      "\taxis: radial_azimuth_coordinate\n",
      "elevation:\n",
      "\tdata: <ndarray of type: float32 and shape: (5403,)>\n",
      "\t_FillValue: -9999.0\n",
      "\tlong_name: Elevation angle from horizontal plane\n",
      "\tunits: degree\n",
      "\tstandard_name: sensor_to_target_elevation_angle\n",
      "\taxis: radial_elevation_coordinate\n",
      "fields:\n",
      "\tground_clutter:\n",
      "\t\tdata: <ndarray of type: int64 and shape: (5403, 1100)>\n",
      "\t\tlong_name: Clutter mask\n",
      "\t\tunits: unitless\n",
      "\t\tstandard_name: clutter_mask\n",
      "\t\tcomment: 0 is good, 1 is clutter\n",
      "\t\tvalid_min: 0\n",
      "\t\tvalid_max: 1\n",
      "fixed_angle:\n",
      "\tdata: <ndarray of type: float32 and shape: (15,)>\n",
      "\t_FillValue: -9999.0\n",
      "\tlong_name: Ray target fixed angle\n",
      "\tunits: degree\n",
      "instrument_parameters:\n",
      "\tprt:\n",
      "\t\tdata: <ndarray of type: float32 and shape: (5403,)>\n",
      "\t\t_FillValue: -9999.0\n",
      "\t\tlong_name: Pulse repetition time\n",
      "\t\tunits: s\n",
      "\tnyquist_velocity:\n",
      "\t\tdata: <ndarray of type: float32 and shape: (5403,)>\n",
      "\t\t_FillValue: -9999.0\n",
      "\t\tlong_name: Unambiguous doppler velocity\n",
      "\t\tunits: m/s\n",
      "\t\tmeta_group: instrument_parameters\n",
      "latitude:\n",
      "\tdata: <ndarray of type: float32 and shape: (1,)>\n",
      "\t_FillValue: -9999.0\n",
      "\tlong_name: Latitude\n",
      "\tunits: degree_N\n",
      "\tstandard_name: latitude\n",
      "\tvalid_min: -90.0\n",
      "\tvalid_max: 90.0\n",
      "longitude:\n",
      "\tdata: <ndarray of type: float32 and shape: (1,)>\n",
      "\t_FillValue: -9999.0\n",
      "\tlong_name: Longitude\n",
      "\tunits: degree_E\n",
      "\tstandard_name: longitude\n",
      "\tvalid_min: -180.0\n",
      "\tvalid_max: 180.0\n",
      "nsweeps: 15\n",
      "ngates: 1100\n",
      "nrays: 5403\n",
      "radar_calibration: None\n",
      "range:\n",
      "\tdata: <ndarray of type: float32 and shape: (1100,)>\n",
      "\tlong_name: Range to measurement volume\n",
      "\tunits: m\n",
      "\tmeters_between_gates: 100.0\n",
      "\tmeters_to_center_of_first_gate: 50.0\n",
      "\tspacing_is_constant: True\n",
      "\tstandard_name: projection_range_coordinate\n",
      "\taxis: radial_range_coordinate\n",
      "scan_rate: None\n",
      "scan_type: sector\n",
      "sweep_end_ray_index:\n",
      "\tdata: <ndarray of type: int32 and shape: (15,)>\n",
      "\t_FillValue: -9999\n",
      "\tlong_name: Index of last ray in sweep\n",
      "\tunits: 1\n",
      "sweep_mode:\n",
      "\tdata: <ndarray of type: |S1 and shape: (15, 32)>\n",
      "\tlong_name: Scan mode for sweep\n",
      "\tunits: 1\n",
      "sweep_number:\n",
      "\tdata: <ndarray of type: int32 and shape: (15,)>\n",
      "\t_FillValue: -9999\n",
      "\tlong_name: Sweep index number 0 based\n",
      "\tunits: 1\n",
      "sweep_start_ray_index:\n",
      "\tdata: <ndarray of type: int32 and shape: (15,)>\n",
      "\t_FillValue: -9999\n",
      "\tlong_name: Index of first ray in sweep\n",
      "\tunits: 1\n",
      "target_scan_rate: None\n",
      "time:\n",
      "\tdata: <ndarray of type: float64 and shape: (5403,)>\n",
      "\tlong_name: Time in seconds since volume start\n",
      "\tunits: seconds since 2018-11-02 09:45:04 0:00\n",
      "\tstandard_name: time\n",
      "\tcalendar: gregorian\n",
      "metadata:\n",
      "\tcommand_line: sapr2cfr_ingest -n csapr2cfr -s cor -f M1 --max-runtime 0 -DR\n",
      "\tConventions: ARM-1.2 CF/Radial-1.4 instrument_parameters radar_parameters radar_calibration\n",
      "\tprocess_version: ingest-sapr2cfr-1.3-0.el6\n",
      "\tdod_version: csapr2cfrppi-a1-1.0\n",
      "\tinput_source: /data/project/0021718_1509993009/alka_csapr/data/collection/cor/corcsaprM1.00/corcsaprM1.00.20181102.094504.raw.cor-ppi-cacti-15tilt_CSAPR2_20181102094504_00.h5\n",
      "\tsite_id: cor\n",
      "\tplatform_id: csapr2cfrppi\n",
      "\tfacility_id: M1\n",
      "\tdata_level: a1\n",
      "\tlocation_description: Cloud, Aerosol, and Complex Terrain Interactions (CACTI), Cordoba, Argentina\n",
      "\tdatastream: corcsapr2cfrppiM1.a1\n",
      "\tcomment: \n",
      "\tinstitution: Department of Energy Atmospheric Radiation Measurement Program\n",
      "\tinstrument_name: CSAPR2\n",
      "\tradar_version: 8\n",
      "\treferences: See Instrument Handbook\n",
      "\tscan_mode: ppi\n",
      "\tsdp_name: UNKNOWN SDP\n",
      "\tsdp_version: HW protocol: 2.1.0; PCI DSP firmware: 5.0.20; PCI FPGA firmware: 5.0.3; IFD FPGA firmware: 5.0.6; ENIGMA software: 1.2.1\n",
      "\tsite_name: corM1\n",
      "\tsoftware_version: FROG BARON_CSAPR2_2013_20151201-1000:lowlander:120115:103955\n",
      "\tsource: FROG BARON_CSAPR2_2013_20151201-1000:lowlander:120115:103955\n",
      "\ttemplate_name: cor-ppi-cacti-15tilt\n",
      "\ttitle: ARM CSAPR2 Moments\n",
      "\tdoi: 10.5439/1467901\n",
      "\tfield_names: ground_clutter\n",
      "\thistory: created by user singh on machine amber at 2019-01-30 23:52:08, using ingest-sapr2cfr-1.3-0.el6\n",
      "\tvolume_number: 0\n",
      "\tplatform_type: fixed\n",
      "\tinstrument_type: radar\n",
      "\tprimary_axis: axis_z\n"
     ]
    }
   ],
   "source": [
    "radar.info()"
   ]
  },
  {
   "cell_type": "code",
   "execution_count": 26,
   "metadata": {},
   "outputs": [
    {
     "data": {
      "text/plain": [
       "{'_FillValue': -9999.0,\n",
       " 'long_name': 'Azimuth angle from true north',\n",
       " 'units': 'degree',\n",
       " 'standard_name': 'sensor_to_target_azimuth_angle',\n",
       " 'axis': 'radial_azimuth_coordinate',\n",
       " 'data': masked_array(data=[173.58398, 174.58374, 175.59448, ..., 132.53906,\n",
       "                    133.53882, 134.54956],\n",
       "              mask=False,\n",
       "        fill_value=1e+20,\n",
       "             dtype=float32)}"
      ]
     },
     "execution_count": 26,
     "metadata": {},
     "output_type": "execute_result"
    }
   ],
   "source": [
    "radar.azimuth"
   ]
  },
  {
   "cell_type": "code",
   "execution_count": null,
   "metadata": {},
   "outputs": [],
   "source": []
  }
 ],
 "metadata": {
  "kernelspec": {
   "display_name": "Python [conda env:.conda-cmac_env] *",
   "language": "python",
   "name": "conda-env-.conda-cmac_env-py"
  },
  "language_info": {
   "codemirror_mode": {
    "name": "ipython",
    "version": 3
   },
   "file_extension": ".py",
   "mimetype": "text/x-python",
   "name": "python",
   "nbconvert_exporter": "python",
   "pygments_lexer": "ipython3",
   "version": "3.6.7"
  }
 },
 "nbformat": 4,
 "nbformat_minor": 4
}
