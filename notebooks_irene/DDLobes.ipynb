{
 "cells": [
  {
   "cell_type": "markdown",
   "metadata": {},
   "source": [
    "## Dual Doppler lobe plotter\n",
    "\n",
    "DD lobe plotter. Needs py-ART Grid file since DD lobes are calculated in radar relative coordinates.\n",
    "\n",
    "Based on code created by Scott Collis, Johnathan Helmus, Zachary Sherman, and myself"
   ]
  },
  {
   "cell_type": "code",
   "execution_count": 6,
   "metadata": {
    "collapsed": false
   },
   "outputs": [
    {
     "name": "stdout",
     "output_type": "stream",
     "text": [
      "\n",
      "## You are using the Python ARM Radar Toolkit (Py-ART), an open source\n",
      "## library for working with weather radar data. Py-ART is partly\n",
      "## supported by the U.S. Department of Energy as part of the Atmospheric\n",
      "## Radiation Measurement (ARM) Climate Research Facility, an Office of\n",
      "## Science user facility.\n",
      "##\n",
      "## If you use this software to prepare a publication, please cite:\n",
      "##\n",
      "##     JJ Helmus and SM Collis, JORS 2016, doi: 10.5334/jors.119\n",
      "\n"
     ]
    }
   ],
   "source": [
    "import pyart\n",
    "import gzip\n",
    "from matplotlib import pyplot as plt\n",
    "from matplotlib import rcParams\n",
    "from scipy import ndimage\n",
    "import shutil, os\n",
    "from datetime import timedelta, datetime\n",
    "import numpy as np\n",
    "import tempfile\n",
    "import glob\n",
    "import re\n",
    "from copy import deepcopy\n",
    "from IPython.display import Image, display\n",
    "import math\n",
    "%matplotlib inline\n",
    "import pyproj\n",
    "import cartopy.crs as ccrs\n",
    "import cartopy.feature as cfeature\n",
    "from cartopy.mpl.ticker import LongitudeFormatter, LatitudeFormatter"
   ]
  },
  {
   "cell_type": "markdown",
   "metadata": {
    "collapsed": true
   },
   "source": [
    "This looks for all of the available timeperiods in the data_path directory and pulls out\n",
    "the file names that match the given time periods above."
   ]
  },
  {
   "cell_type": "code",
   "execution_count": 20,
   "metadata": {
    "collapsed": false
   },
   "outputs": [],
   "source": [
    "def dms_to_decimal(degrees, minutes, seconds):\n",
    "    if(degrees > 0):\n",
    "        return degrees+minutes/60+seconds/3600\n",
    "    else:\n",
    "        return degrees-minutes/60-seconds/3600\n",
    "\n",
    "def get_bca(grid):\n",
    "    berr_origin = [-12960.1,-23091.1]\n",
    "    x,y = np.meshgrid(grid.x['data'], grid.y['data'])\n",
    "    a = np.sqrt(np.multiply(x,x)+np.multiply(y,y))\n",
    "    b = np.sqrt(pow(x-berr_origin[0],2)+pow(y-berr_origin[1],2))\n",
    "    c = np.sqrt(berr_origin[0]*berr_origin[0]+berr_origin[1]*berr_origin[1])\n",
    "    theta_1 = np.arccos(x/a)\n",
    "    theta_2 = np.arccos((x-berr_origin[1])/b)\n",
    "    return np.arccos((a*a+b*b-c*c)/(2*a*b))\n",
    "\n",
    "# Gets beam crossing angle over 2D grid centered over Radar 1. \n",
    "# grid_x, grid_y are cartesian coordinates from pyproj.Proj (or basemap)\n",
    "def get_bca(rad1_lon, rad1_lat, \n",
    "            rad2_lon, rad2_lat,\n",
    "            grid_lon, grid_lat):\n",
    "    # Beam crossing angle needs cartesian coordinates\n",
    "    p = ccrs.PlateCarree()\n",
    "    p = p.as_geocentric()\n",
    "    rad1 = p.transform_points(ccrs.PlateCarree().as_geodetic(),\n",
    "                              np.array(rad1_lon), \n",
    "                              np.array(rad1_lat))\n",
    "    rad2 = p.transform_points(ccrs.PlateCarree().as_geodetic(),\n",
    "                              np.array(rad2_lon), \n",
    "                              np.array(rad2_lat))\n",
    "    grid_lon, grid_lat = np.meshgrid(grid_lon, grid_lat)\n",
    "    grid = p.transform_points(ccrs.PlateCarree().as_geodetic(),\n",
    "                              grid_lon,\n",
    "                              grid_lat,\n",
    "                              np.zeros(grid_lon.shape))\n",
    "    # Create grid with Radar 1 in center\n",
    "    x = grid[:,:,0]-rad1[0,0]\n",
    "    y = grid[:,:,1]-rad1[0,1]\n",
    "    rad2 = rad2 - rad1\n",
    "    a = np.sqrt(np.multiply(x,x)+np.multiply(y,y))\n",
    "    b = np.sqrt(pow(x-rad2[0,0],2)+pow(y-rad2[0,1],2))\n",
    "    c = np.sqrt(rad2[0,0]*rad2[0,0]+rad2[0,1]*rad2[0,1])\n",
    "    theta_1 = np.arccos(x/a)\n",
    "    theta_2 = np.arccos((x-rad2[0,1])/b)\n",
    "    return np.arccos((a*a+b*b-c*c)/(2*a*b))\n",
    "\n",
    "def scale_bar(ax, length, location=(0.5, 0.05), linewidth=3):\n",
    "    \"\"\"\n",
    "    ax is the axes to draw the scalebar on.\n",
    "    location is center of the scalebar in axis coordinates ie. 0.5 is the middle of the plot\n",
    "    length is the length of the scalebar in km.\n",
    "    linewidth is the thickness of the scalebar.\n",
    "    \"\"\"\n",
    "    #Projection in metres, need to change this to suit your own figure\n",
    "    utm = ccrs.UTM(14)\n",
    "    #Get the extent of the plotted area in coordinates in metres\n",
    "    x0, x1, y0, y1 = ax.get_extent(utm)\n",
    "    #Turn the specified scalebar location into coordinates in metres\n",
    "    sbcx, sbcy = x0 + (x1 - x0) * location[0], y0 + (y1 - y0) * location[1]\n",
    "    #Generate the x coordinate for the ends of the scalebar\n",
    "    bar_xs = [sbcx - length * 500, sbcx + length * 500]\n",
    "    #Plot the scalebar\n",
    "    ax.plot(bar_xs, [sbcy, sbcy], transform=utm, color='k', linewidth=linewidth)\n",
    "    #Plot the scalebar label\n",
    "    ax.text(sbcx, sbcy, str(length) + ' km', transform=utm,\n",
    "            horizontalalignment='center', verticalalignment='bottom')"
   ]
  },
  {
   "cell_type": "markdown",
   "metadata": {},
   "source": [
    "## Grid plotting code\n",
    "\n",
    "This code creates plots from all of the Grids developed by multidop"
   ]
  },
  {
   "cell_type": "markdown",
   "metadata": {},
   "source": [
    "This loads the Grid files and creates the animation"
   ]
  },
  {
   "cell_type": "code",
   "execution_count": 35,
   "metadata": {
    "collapsed": false
   },
   "outputs": [],
   "source": [
    "def plot_dd_lobes(radar1_loc, radar2_loc, radar1_name, radar2_name):\n",
    "    ax = plt.axes(projection=ccrs.PlateCarree())\n",
    "    # Amf locations\n",
    "    i5 = [dms_to_decimal(-97, 35, 37.68), dms_to_decimal(36, 29, 29.4)]\n",
    "    i4 = [dms_to_decimal(-97, 21, 49.32), dms_to_decimal(36, 34, 44.4)]\n",
    "    grid_lon = np.arange(radar1_loc[0]-1.5, radar1_loc[0]+1.5, 0.01)\n",
    "    grid_lat = np.arange(radar1_loc[1]-1.5, radar1_loc[1]+1.5, 0.01)\n",
    "   \n",
    "    bca = get_bca(radar1_loc[0], radar1_loc[1],\n",
    "                  radar2_loc[0], radar2_loc[1],\n",
    "                  grid_lon, grid_lat)\n",
    "    lon_gridded, lat_gridded = np.meshgrid(grid_lon, grid_lat)\n",
    "    # Create a feature for States/Admin 1 regions at 1:50m from Natural Earth\n",
    "    states_provinces = cfeature.NaturalEarthFeature(\n",
    "        category='cultural',\n",
    "        name='admin_1_states_provinces_lines',\n",
    "        scale='50m',\n",
    "        facecolor='none')\n",
    "\n",
    "    SOURCE = 'Natural Earth'\n",
    "    LICENSE = 'public domain'\n",
    "\n",
    "    ax.add_feature(cfeature.LAND)\n",
    "    ax.add_feature(cfeature.COASTLINE)\n",
    "    ax.add_feature(states_provinces, edgecolor='gray')\n",
    "    \n",
    "    ax.set_xticks(grid_lon[::int(len(grid_lon)/5)], crs=ccrs.PlateCarree())\n",
    "    ax.set_yticks(grid_lat[::int(len(grid_lon)/5)], crs=ccrs.PlateCarree())\n",
    "    lon_formatter = LongitudeFormatter(zero_direction_label=True)\n",
    "    lat_formatter = LatitudeFormatter()\n",
    "    ax.xaxis.set_major_formatter(lon_formatter)\n",
    "    ax.yaxis.set_major_formatter(lat_formatter)\n",
    "    plt.contour(lon_gridded, lat_gridded, \n",
    "                bca, \n",
    "                levels=[math.pi/6, 5*math.pi/6],\n",
    "                linewidths=2,\n",
    "                transform=ccrs.PlateCarree())\n",
    "    plt.annotate('i4', \n",
    "                 xy=(i4[0]+0.02, i4[1]+0.01),\n",
    "                 fontweight='bold', \n",
    "                 fontsize=8, \n",
    "                 transform=ccrs.PlateCarree())\n",
    "    plt.annotate('i5', \n",
    "                 xy=(i5[0]+0.02, i5[1]+0.01),\n",
    "                 fontweight='bold', \n",
    "                 fontsize=8, \n",
    "                 transform=ccrs.PlateCarree())\n",
    "    plt.plot(i4[0], i5[1], marker='d', \n",
    "             linewidth=1, color='k')\n",
    "    plt.plot(i4[0], i5[1], marker='d', \n",
    "             linewidth=1, color='k')\n",
    "    scale_bar(ax, 20, location=(0.1, 0.9),)\n",
    "    ax.coastlines(resolution='10m')\n",
    "    ax.stock_img()\n",
    "    plt.xlim((grid_lon[0]-0.4, grid_lon[-1]+0.4))\n",
    "    plt.ylim((grid_lat[0]-0.4, grid_lat[-1]+0.4))"
   ]
  },
  {
   "cell_type": "markdown",
   "metadata": {},
   "source": [
    "## Plot DD lobes for XSAPR i4 and i5"
   ]
  },
  {
   "cell_type": "code",
   "execution_count": 36,
   "metadata": {
    "collapsed": false
   },
   "outputs": [
    {
     "name": "stderr",
     "output_type": "stream",
     "text": [
      "/home/rjackson/anaconda3/lib/python3.5/site-packages/ipykernel/__main__.py:44: RuntimeWarning: invalid value encountered in arccos\n",
      "/home/rjackson/anaconda3/lib/python3.5/site-packages/matplotlib/contour.py:1472: DeprecationWarning: Single-argument form of np.ma.minimum is deprecated. Use np.ma.minimum.reduce instead.\n",
      "  x0 = ma.minimum(x)\n",
      "/home/rjackson/anaconda3/lib/python3.5/site-packages/matplotlib/contour.py:1473: DeprecationWarning: Single-argument form of np.ma.maximum is deprecated. Use np.ma.maximum.reduce instead.\n",
      "  x1 = ma.maximum(x)\n",
      "/home/rjackson/anaconda3/lib/python3.5/site-packages/matplotlib/contour.py:1474: DeprecationWarning: Single-argument form of np.ma.minimum is deprecated. Use np.ma.minimum.reduce instead.\n",
      "  y0 = ma.minimum(y)\n",
      "/home/rjackson/anaconda3/lib/python3.5/site-packages/matplotlib/contour.py:1475: DeprecationWarning: Single-argument form of np.ma.maximum is deprecated. Use np.ma.maximum.reduce instead.\n",
      "  y1 = ma.maximum(y)\n"
     ]
    },
    {
     "data": {
      "text/plain": [
       "<matplotlib.text.Text at 0x7f7d99cc2320>"
      ]
     },
     "execution_count": 36,
     "metadata": {},
     "output_type": "execute_result"
    },
    {
     "data": {
      "image/png": "[encoded data removed]",
      "text/plain": [
       "<matplotlib.figure.Figure at 0x7f7d99d557f0>"
      ]
     },
     "metadata": {},
     "output_type": "display_data"
    }
   ],
   "source": [
    "# Amf locations\n",
    "i5 = [dms_to_decimal(-97, 35, 37.68), dms_to_decimal(36, 29, 29.4)]\n",
    "i4 = [dms_to_decimal(-97, 21, 49.32), dms_to_decimal(36, 34, 44.4)]\n",
    "\n",
    "\n",
    "plt.figure(figsize=(8,10))\n",
    "plot_dd_lobes(i4, i5, 'i4', 'i5')\n",
    "plt.title('XSAPR DD lobes')"
   ]
  },
  {
   "cell_type": "code",
   "execution_count": null,
   "metadata": {
    "collapsed": true
   },
   "outputs": [],
   "source": []
  }
 ],
 "metadata": {
  "anaconda-cloud": {},
  "kernelspec": {
   "display_name": "Python [conda root]",
   "language": "python",
   "name": "conda-root-py"
  },
  "language_info": {
   "codemirror_mode": {
    "name": "ipython",
    "version": 3
   },
   "file_extension": ".py",
   "mimetype": "text/x-python",
   "name": "python",
   "nbconvert_exporter": "python",
   "pygments_lexer": "ipython3",
   "version": "3.5.2"
  }
 },
 "nbformat": 4,
 "nbformat_minor": 1
}
