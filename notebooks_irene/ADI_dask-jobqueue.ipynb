{
 "cells": [
  {
   "cell_type": "markdown",
   "metadata": {},
   "source": [
    "## Installation instructions"
   ]
  },
  {
   "cell_type": "markdown",
   "metadata": {},
   "source": [
    "### First, clone cmac2.0 into your own directory:\n",
    "\n",
    "    git clone https://github.com/EVS-ATMOS/cmac2.0.git\n",
    "\n",
    "\n",
    "### Second: Create the environment from the cmac environment. I will call it cmac_env here:\n",
    "\n",
    "    cd cmac2.0\n",
    "    conda env create -f environment-3.6.yml\n",
    "\n",
    "### After that, we will install CyLP into the new environment:\n",
    "    conda activate cmac_env\n",
    "    module load gcc/6.3.0\n",
    "    export COIN_INSTALL_DIR=/path/to/anaconda3/envs/cmac_env\n",
    "    pip install git+https://github.com/jjhelmus/CyLP@py3\n",
    "\n",
    "### After this is done, the next step is to compile and install the ADI libraries. First, clone the adi_cmac2, adi_py, and adi_pyart_glue repositories from code.arm.gov and install them.\n",
    "\n",
    "    git clone https://code.arm.gov/adi_cmac2.git\n",
    "    git clone https://code.arm.gov/adi_py.git\n",
    "    git clone https://code.arm.gov/adi_pyart_glue.git\n",
    "\n",
    "### You will need to load the ADI module to build and install ADI into anaconda:\n",
    "    module load adi\n",
    "\n",
    "#### Then install the 3 packages:\n",
    "    cd adi_py\n",
    "    python setup.py install\n",
    "    cd ..\n",
    "    cd adi_pyart_glue\n",
    "    python setup.py install\n",
    "    cd ..\n",
    "    cd adi_cmac2\n",
    "    python setup.py install\n",
    "\n",
    "### Finally, we need to set up the conda environment to load system libraries that are needed for adi on startup. To do this, we will edit the */path/to/anaconda3/envs/cmac_env/etc/conda/activate.d/env_var.sh* and */path/to/anaconda3/envs/cmac_env/etc/conda/deactivate.d/env_var.sh*. First, let us create them:\n",
    "    touch /path/to/anaconda3/envs/cmac_env/etc/conda/activate.d/env_var.sh\n",
    "    touch /path/to/anaconda3/envs/cmac_env/etc/conda/deactivate.d/env_var.sh\n",
    "\n",
    "### Put this in the contents of */path/to/anaconda3/envs/cmac_env/etc/conda/activate.d/env_var.sh*:\n",
    "\n",
    "    #!/bin/bash\n",
    "\n",
    "    module load postgresql\n",
    "    export LD_LIBRARY_PATH=$LD_LIBRARY_PATH:/software/user_tools/current/cades-arm/apps/lib64\n",
    "    \n",
    "    export C_INCLUDE_PATH=$C_INCLUDE_PATH:/software/user_tools/current/cades-arm/apps/include:/software/dev_tools/swtree/cs400_centos7.5_pe2018/anaconda3/5.1.0/centos7.5_intel18.0.0/anaconda/pkgs/libnetcdf-4.6.1-he6cff42_8/include/\n",
    "    \n",
    "    export PKG_CONFIG_PATH=$PKG_CONFIG_PATH::/software/user_tools/current/cades-arm/apps/lib64/pkgconfig:/software/dev_tools/swtree/cs400_centos7.5_pe2018/anaconda3/5.1.0/centos7.5_intel18.0.0/anaconda/pkgs/libnetcdf-4.6.1-he6cff42_8/lib/pkgconfig/\n",
    "\n",
    "### And in */path/to/anaconda3/envs/cmac_env/etc/conda/deactivate.d/env_var.sh*\n",
    "\n",
    "    #!/bin/bash\n",
    "\n",
    "    module unload postgresql\n",
    "\n",
    "### This will get all of the libraries you need to run adi_cmac2. Make sure to run adi_cmac2 from an arm_high_mem node before starting or it will not work.\n",
    "\n",
    "### To test to see if adi_cmac2 is working, just type arm_cmac2 in the terminal. If it is installed correctly the only error that should pop up is that no files were specified. Be sure that when you use adi_cmac2 that you are on a arm_high_mem node or it will not be able to connect to the DMF."
   ]
  },
  {
   "cell_type": "markdown",
   "metadata": {},
   "source": [
    "## Notebook to scale ADI onto stratus"
   ]
  },
  {
   "cell_type": "markdown",
   "metadata": {},
   "source": [
    "Import all of the needed libraries"
   ]
  },
  {
   "cell_type": "code",
   "execution_count": 1,
   "metadata": {},
   "outputs": [],
   "source": [
    "import subprocess\n",
    "import os\n",
    "import sys\n",
    "from dask_jobqueue import PBSCluster\n",
    "from distributed import Client, progress\n",
    "from datetime import datetime, timedelta\n",
    "from pkg_resources import load_entry_point\n",
    "from distributed import progress"
   ]
  },
  {
   "cell_type": "code",
   "execution_count": 2,
   "metadata": {},
   "outputs": [],
   "source": [
    "def exec_adi(info_dict):\n",
    "    \"\"\"\n",
    "    This function will call adi_cmac2 from within Python. It takes in a dictionary where the inputs to adi_cmac2 are\n",
    "    stored.\n",
    "    \n",
    "    Parameters\n",
    "    ----------\n",
    "    info_dict: dict\n",
    "        A dictionary with the following keywords:\n",
    "        'facility' = The facility marker (i.e. 'sgp', 'nsa', etc.)\n",
    "        'site' = The site marker (i.e. i4, i5, i6)\n",
    "        'start_date' = The start date as a string formatted YYYYMMDD\n",
    "        'end_date' = The end date as a string formatted YYYYMMDD\n",
    "    \"\"\"\n",
    "    facility = info_dict['facility']\n",
    "    site = info_dict['site']\n",
    "    start_date = info_dict['start_date']\n",
    "    end_date = info_dict['end_date']\n",
    "    \n",
    "    # Change this directory to where you want your adi logs stored\n",
    "    logs_dir = \"/home/rjackson/adi_logs\"\n",
    "    \n",
    "    # Set the path to your datasteam here! \n",
    "    os.environ[\"DATASTREAM_DATA\"] = \"/lustre/or-hydra/cades-arm/rjackson/\"\n",
    "    \n",
    "    logs_dir += logs_dir + \"/\" + site + start_date + \"_\" + end_date\n",
    "    if not os.path.isdir(logs_dir):\n",
    "        os.makedirs(logs_dir)\n",
    "    os.environ[\"LOGS_DATA\"] = logs_dir\n",
    "    os.environ[\"PROJ_LIB\"] = \"/home/rjackson/anaconda3/envs/adi_env3/share/proj/\"\n",
    "    \n",
    "    # Set the path to the clutter file here!\n",
    "    os.environ[\"CMAC_CLUTTER_FILE\"] = \"/home/rjackson/cmac2.0/scripts/clutter201901.nc\"\n",
    "    subprocess.call((\"/home/rjackson/anaconda3/envs/adi_env3/bin/adi_cmac2 -D 1 -f \" + \n",
    "                     facility + \" -s \" + site + \" -b \" + start_date + \" -e \"+  end_date), shell=True)"
   ]
  },
  {
   "cell_type": "markdown",
   "metadata": {},
   "source": [
    "This will start a distributed cluster on the arm_high_mem queue. I have set it to have 6 adi_cmac2 processes per node, \n",
    "with 36 total processes being ran. Feel free to change these values as you see fit. TYou will need to change the environment name and paths to what you named your adi_cmac2 environment on your machine. You will also need to change the path to your conda.sh."
   ]
  },
  {
   "cell_type": "code",
   "execution_count": 3,
   "metadata": {},
   "outputs": [],
   "source": [
    "the_cluster = PBSCluster(processes=6, cores=36, queue=\"arm_high_mem\", \n",
    "                         walltime=\"3:00:00\", resource_spec=\"qos=std\",\n",
    "                         job_extra=[\"-A arm\", \"-W group_list=cades-arm\"],\n",
    "                         env_extra=[\". /home/rjackson/anaconda3/etc/profile.d/conda.sh\", \"conda activate adi_env3\"])\n",
    "the_cluster.scale(36)"
   ]
  },
  {
   "cell_type": "code",
   "execution_count": 4,
   "metadata": {},
   "outputs": [
    {
     "data": {
      "text/html": [
       "<table style=\"border: 2px solid white;\">\n",
       "<tr>\n",
       "<td style=\"vertical-align: top; border: 0px solid white\">\n",
       "<h3>Client</h3>\n",
       "<ul>\n",
       "  <li><b>Scheduler: </b>tcp://10.23.216.81:41764\n",
       "  <li><b>Dashboard: </b><a href='http://10.23.216.81:8787/status' target='_blank'>http://10.23.216.81:8787/status</a>\n",
       "</ul>\n",
       "</td>\n",
       "<td style=\"vertical-align: top; border: 0px solid white\">\n",
       "<h3>Cluster</h3>\n",
       "<ul>\n",
       "  <li><b>Workers: </b>0</li>\n",
       "  <li><b>Cores: </b>0</li>\n",
       "  <li><b>Memory: </b>0 B</li>\n",
       "</ul>\n",
       "</td>\n",
       "</tr>\n",
       "</table>"
      ],
      "text/plain": [
       "<Client: scheduler='tcp://10.23.216.81:41764' processes=0 cores=0>"
      ]
     },
     "execution_count": 4,
     "metadata": {},
     "output_type": "execute_result"
    }
   ],
   "source": [
    "client = Client(the_cluster)\n",
    "client"
   ]
  },
  {
   "cell_type": "markdown",
   "metadata": {},
   "source": [
    "Run the above code to start the distributed client, and then use the output of this cell to determine whether your client got started. You should have nonzero resources available if the cluster has started."
   ]
  },
  {
   "cell_type": "code",
   "execution_count": 5,
   "metadata": {},
   "outputs": [
    {
     "data": {
      "text/html": [
       "<table style=\"border: 2px solid white;\">\n",
       "<tr>\n",
       "<td style=\"vertical-align: top; border: 0px solid white\">\n",
       "<h3>Client</h3>\n",
       "<ul>\n",
       "  <li><b>Scheduler: </b>tcp://10.23.216.81:41764\n",
       "  <li><b>Dashboard: </b><a href='http://10.23.216.81:8787/status' target='_blank'>http://10.23.216.81:8787/status</a>\n",
       "</ul>\n",
       "</td>\n",
       "<td style=\"vertical-align: top; border: 0px solid white\">\n",
       "<h3>Cluster</h3>\n",
       "<ul>\n",
       "  <li><b>Workers: </b>0</li>\n",
       "  <li><b>Cores: </b>0</li>\n",
       "  <li><b>Memory: </b>0 B</li>\n",
       "</ul>\n",
       "</td>\n",
       "</tr>\n",
       "</table>"
      ],
      "text/plain": [
       "<Client: scheduler='tcp://10.23.216.81:41764' processes=0 cores=0>"
      ]
     },
     "execution_count": 5,
     "metadata": {},
     "output_type": "execute_result"
    }
   ],
   "source": [
    "client"
   ]
  },
  {
   "cell_type": "markdown",
   "metadata": {},
   "source": [
    "This creates the list of dictionaries mapped onto exec_adi when adi_cmac2 is run on the cluster."
   ]
  },
  {
   "cell_type": "code",
   "execution_count": 6,
   "metadata": {},
   "outputs": [],
   "source": [
    "def make_date_list_dict_list(start_day, end_day):\n",
    "    \"\"\"\n",
    "    This automatically generates a list of day inputs for the exec_adi function.\n",
    "    \n",
    "    Parameters\n",
    "    ----------\n",
    "    start_day: datetime\n",
    "        The start date\n",
    "    end_day:\n",
    "        The end date\n",
    "    Returns\n",
    "    -------\n",
    "    the_list: A list of dictionary inputs for exec_adi\n",
    "    \"\"\"\n",
    "    cur_day = start_day\n",
    "    the_list = []\n",
    "    while(cur_day < end_day):\n",
    "        next_day = cur_day + timedelta(days=1)\n",
    "        temp_dict = {}\n",
    "        # Change these next two lines to fit your facility\n",
    "        temp_dict['facility'] = \"I5\"\n",
    "        temp_dict['site'] = \"sgp\"\n",
    "        temp_dict['start_date'] = cur_day.strftime(\"%Y%m%d\")\n",
    "        temp_dict['end_date'] = next_day.strftime(\"%Y%m%d\")\n",
    "        the_list.append(temp_dict)\n",
    "        cur_day = cur_day + timedelta(days=1)\n",
    "    return the_list\n",
    "\n",
    "# Here we specify the dates that we want to process\n",
    "date_list = make_date_list_dict_list(datetime(2019, 1, 1), datetime(2019,2,6))"
   ]
  },
  {
   "cell_type": "code",
   "execution_count": 7,
   "metadata": {},
   "outputs": [],
   "source": [
    "# Run the cluster\n",
    "futures = client.map(exec_adi, date_list)"
   ]
  },
  {
   "cell_type": "code",
   "execution_count": 8,
   "metadata": {},
   "outputs": [
    {
     "data": {
      "application/vnd.jupyter.widget-view+json": {
       "model_id": "5f2d00c81f5c4042af02f78ee82a8839",
       "version_major": 2,
       "version_minor": 0
      },
      "text/plain": [
       "VBox()"
      ]
     },
     "metadata": {},
     "output_type": "display_data"
    }
   ],
   "source": [
    "# Put up a little progress bar!\n",
    "progress(futures)"
   ]
  },
  {
   "cell_type": "code",
   "execution_count": 94,
   "metadata": {},
   "outputs": [],
   "source": [
    "# This will make the tasks quit\n",
    "del futures\n",
    "cluster.stop_all_jobs()"
   ]
  }
 ],
 "metadata": {
  "kernelspec": {
   "display_name": "Python 3",
   "language": "python",
   "name": "python3"
  },
  "language_info": {
   "codemirror_mode": {
    "name": "ipython",
    "version": 3
   },
   "file_extension": ".py",
   "mimetype": "text/x-python",
   "name": "python",
   "nbconvert_exporter": "python",
   "pygments_lexer": "ipython3",
   "version": "3.6.8"
  }
 },
 "nbformat": 4,
 "nbformat_minor": 2
}
