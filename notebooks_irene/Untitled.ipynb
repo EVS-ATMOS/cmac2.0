{
 "cells": [
  {
   "cell_type": "code",
   "execution_count": 1,
   "metadata": {},
   "outputs": [
    {
     "name": "stdout",
     "output_type": "stream",
     "text": [
      "\n",
      "## You are using the Python ARM Radar Toolkit (Py-ART), an open source\n",
      "## library for working with weather radar data. Py-ART is partly\n",
      "## supported by the U.S. Department of Energy as part of the Atmospheric\n",
      "## Radiation Measurement (ARM) Climate Research Facility, an Office of\n",
      "## Science user facility.\n",
      "##\n",
      "## If you use this software to prepare a publication, please cite:\n",
      "##\n",
      "##     JJ Helmus and SM Collis, JORS 2016, doi: 10.5334/jors.119\n",
      "\n"
     ]
    }
   ],
   "source": [
    "#lets start with some imports\n",
    "\n",
    "import importlib\n",
    "\n",
    "#Py-ART, simply the best sowftware around.. Give those guys a grant\n",
    "import cartopy\n",
    "import pyart\n",
    "#timezone info\n",
    "import pytz\n",
    "\n",
    "#plotting\n",
    "from matplotlib import pyplot as plt\n",
    "\n",
    "#plotting on a maop\n",
    "\n",
    "import operator\n",
    "\n",
    "import xarray as xr\n",
    "import netCDF4\n",
    "\n",
    "import scipy.ndimage as ndimage\n",
    "\n",
    "from mpl_toolkits.mplot3d import Axes3D\n",
    "from matplotlib import cm\n",
    "from matplotlib.ticker import LinearLocator, FormatStrFormatter\n",
    "import matplotlib.pyplot as plt\n",
    "import numpy as np\n",
    "from cmac import cmac, quicklooks, get_sounding_times, get_sounding_file_name, config, cmac_processing\n",
    "import copy\n",
    "import matplotlib.colors as mc\n",
    "import matplotlib.ticker as mt\n",
    "import matplotlib.font_manager as fm\n",
    "%matplotlib inline"
   ]
  },
  {
   "cell_type": "code",
   "execution_count": 2,
   "metadata": {},
   "outputs": [],
   "source": [
    "meta_config = config.get_metadata('cacti_csapr2_ppi')\n",
    "cmac_config = config.get_cmac_values('cacti_csapr2_ppi')\n",
    "field_config = config.get_field_names('cacti_csapr2_ppi')\n",
    "\n",
    "\n",
    "temp_field = field_config['temperature']\n",
    "alt_field = field_config['altitude']\n",
    "vel_field = field_config['velocity']\n",
    "\n",
    "#field_config['reflectivity'] = 'uncorrected_reflectivity_h'\n",
    "#field_config['phidp'] = 'uncorrected_differential_phase'\n",
    "\n",
    "ref_offset = cmac_config['ref_offset']\n",
    "self_const = cmac_config['self_const']"
   ]
  },
  {
   "cell_type": "code",
   "execution_count": 3,
   "metadata": {},
   "outputs": [],
   "source": [
    "verbose = True\n",
    "sweep = 2"
   ]
  },
  {
   "cell_type": "code",
   "execution_count": 4,
   "metadata": {},
   "outputs": [],
   "source": [
    "soundings_directory = '/home/icrisologo/Data/CACTI/sonde/'\n",
    "radar_directory = '/lcrc/group/earthscience/radar/CACTI/PPI/'"
   ]
  },
  {
   "cell_type": "code",
   "execution_count": 5,
   "metadata": {},
   "outputs": [],
   "source": [
    "inf = 'corcsapr2cfrppiM1.a1.20181105.190003.nc'\n",
    "inf2 = 'corcsapr2cfrppiM1.a1.20181105.191503.nc'\n",
    "radar = pyart.io.read(radar_directory + inf)\n"
   ]
  },
  {
   "cell_type": "code",
   "execution_count": 6,
   "metadata": {},
   "outputs": [
    {
     "name": "stdout",
     "output_type": "stream",
     "text": [
      "attenuation_corrected_differential_reflectivity\n",
      "attenuation_corrected_differential_reflectivity_lag_1\n",
      "attenuation_corrected_reflectivity_h\n",
      "censor_mask\n",
      "classification_mask\n",
      "copol_correlation_coeff\n",
      "differential_phase\n",
      "differential_reflectivity\n",
      "differential_reflectivity_lag_1\n",
      "mean_doppler_velocity\n",
      "mean_doppler_velocity_v\n",
      "normalized_coherent_power\n",
      "normalized_coherent_power_v\n",
      "reflectivity\n",
      "reflectivity_v\n",
      "signal_to_noise_ratio_copolar_h\n",
      "signal_to_noise_ratio_copolar_v\n",
      "specific_differential_phase\n",
      "spectral_width\n",
      "spectral_width_v\n",
      "uncorrected_copol_correlation_coeff\n",
      "uncorrected_differential_phase\n",
      "uncorrected_differential_reflectivity\n",
      "uncorrected_differential_reflectivity_lag_1\n",
      "uncorrected_mean_doppler_velocity_h\n",
      "uncorrected_mean_doppler_velocity_v\n",
      "uncorrected_reflectivity_h\n",
      "uncorrected_reflectivity_v\n",
      "uncorrected_spectral_width_h\n",
      "uncorrected_spectral_width_v\n",
      "unthresholded_power_copolar_h\n",
      "unthresholded_power_copolar_v\n"
     ]
    }
   ],
   "source": [
    "for key in radar.fields.keys():\n",
    "    print(key)\n"
   ]
  },
  {
   "cell_type": "code",
   "execution_count": null,
   "metadata": {},
   "outputs": [],
   "source": []
  }
 ],
 "metadata": {
  "kernelspec": {
   "display_name": "Python [conda env:.conda-cmac_env] *",
   "language": "python",
   "name": "conda-env-.conda-cmac_env-py"
  },
  "language_info": {
   "codemirror_mode": {
    "name": "ipython",
    "version": 3
   },
   "file_extension": ".py",
   "mimetype": "text/x-python",
   "name": "python",
   "nbconvert_exporter": "python",
   "pygments_lexer": "ipython3",
   "version": "3.6.7"
  }
 },
 "nbformat": 4,
 "nbformat_minor": 4
}
